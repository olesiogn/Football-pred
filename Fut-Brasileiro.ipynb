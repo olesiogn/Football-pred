{
 "cells": [
  {
   "cell_type": "markdown",
   "metadata": {},
   "source": [
    "# Utilização de algoritmos de inteligência artificial na previsão de resultados de partidas de futebol"
   ]
  },
  {
   "cell_type": "markdown",
   "metadata": {},
   "source": [
    "Estudo e comparação do desempenho de diferentes algoritmos de inteligência artificial\n",
    "\n",
    "TCC do curso de Ciência da Computação do Instituto Federal do Triângulo Mineiro - Campus Ituiutaba\n",
    "\n",
    "Autor: Olesio Gardenghi Neto"
   ]
  },
  {
   "cell_type": "markdown",
   "metadata": {},
   "source": [
    "## Pré-processamento dos dados"
   ]
  },
  {
   "cell_type": "code",
   "execution_count": 290,
   "metadata": {},
   "outputs": [],
   "source": [
    "import pandas as pd\n",
    "import numpy as np\n",
    "import matplotlib.pyplot as plt\n",
    "import seaborn as sns\n",
    "from sklearn import preprocessing\n",
    "from sklearn.preprocessing import StandardScaler\n",
    "from sklearn.model_selection import train_test_split\n",
    "from sklearn.metrics import classification_report, confusion_matrix\n",
    "from sklearn.model_selection import GridSearchCV\n",
    "plt.style.use('seaborn')\n",
    "%matplotlib inline"
   ]
  },
  {
   "cell_type": "code",
   "execution_count": 291,
   "metadata": {},
   "outputs": [],
   "source": [
    "df = pd.read_csv(\"data/Brasileirao2012.csv\")"
   ]
  },
  {
   "cell_type": "code",
   "execution_count": 292,
   "metadata": {},
   "outputs": [
    {
     "data": {
      "text/html": [
       "<div>\n",
       "<style scoped>\n",
       "    .dataframe tbody tr th:only-of-type {\n",
       "        vertical-align: middle;\n",
       "    }\n",
       "\n",
       "    .dataframe tbody tr th {\n",
       "        vertical-align: top;\n",
       "    }\n",
       "\n",
       "    .dataframe thead th {\n",
       "        text-align: right;\n",
       "    }\n",
       "</style>\n",
       "<table border=\"1\" class=\"dataframe\">\n",
       "  <thead>\n",
       "    <tr style=\"text-align: right;\">\n",
       "      <th></th>\n",
       "      <th>athlete_id</th>\n",
       "      <th>athlete_name</th>\n",
       "      <th>round</th>\n",
       "      <th>team_id</th>\n",
       "      <th>team_name</th>\n",
       "      <th>assistances</th>\n",
       "      <th>receivedBalls</th>\n",
       "      <th>recoveredBalls</th>\n",
       "      <th>lostBalls</th>\n",
       "      <th>yellowCards</th>\n",
       "      <th>...</th>\n",
       "      <th>sucessfulPassesPercent</th>\n",
       "      <th>timePlayed</th>\n",
       "      <th>switchField</th>\n",
       "      <th>backPasses</th>\n",
       "      <th>nickname</th>\n",
       "      <th>substitute</th>\n",
       "      <th>substituted</th>\n",
       "      <th>win</th>\n",
       "      <th>draw</th>\n",
       "      <th>defeat</th>\n",
       "    </tr>\n",
       "  </thead>\n",
       "  <tbody>\n",
       "    <tr>\n",
       "      <td>0</td>\n",
       "      <td>0.0</td>\n",
       "      <td>NaN</td>\n",
       "      <td>1</td>\n",
       "      <td>5.0</td>\n",
       "      <td>Botafogo</td>\n",
       "      <td>3.0</td>\n",
       "      <td>253.0</td>\n",
       "      <td>5.0</td>\n",
       "      <td>23.0</td>\n",
       "      <td>0.0</td>\n",
       "      <td>...</td>\n",
       "      <td>83.7</td>\n",
       "      <td>990.0</td>\n",
       "      <td>1.0</td>\n",
       "      <td>4.0</td>\n",
       "      <td>NaN</td>\n",
       "      <td>0.0</td>\n",
       "      <td>0.0</td>\n",
       "      <td>1</td>\n",
       "      <td>0</td>\n",
       "      <td>0</td>\n",
       "    </tr>\n",
       "    <tr>\n",
       "      <td>1</td>\n",
       "      <td>0.0</td>\n",
       "      <td>NaN</td>\n",
       "      <td>1</td>\n",
       "      <td>24.0</td>\n",
       "      <td>São Paulo</td>\n",
       "      <td>5.0</td>\n",
       "      <td>193.0</td>\n",
       "      <td>2.0</td>\n",
       "      <td>34.0</td>\n",
       "      <td>2.0</td>\n",
       "      <td>...</td>\n",
       "      <td>79.1</td>\n",
       "      <td>990.0</td>\n",
       "      <td>1.0</td>\n",
       "      <td>4.0</td>\n",
       "      <td>NaN</td>\n",
       "      <td>0.0</td>\n",
       "      <td>0.0</td>\n",
       "      <td>0</td>\n",
       "      <td>0</td>\n",
       "      <td>1</td>\n",
       "    </tr>\n",
       "    <tr>\n",
       "      <td>2</td>\n",
       "      <td>0.0</td>\n",
       "      <td>NaN</td>\n",
       "      <td>1</td>\n",
       "      <td>25.0</td>\n",
       "      <td>Vasco</td>\n",
       "      <td>2.0</td>\n",
       "      <td>205.0</td>\n",
       "      <td>1.0</td>\n",
       "      <td>33.0</td>\n",
       "      <td>1.0</td>\n",
       "      <td>...</td>\n",
       "      <td>82.1</td>\n",
       "      <td>990.0</td>\n",
       "      <td>5.0</td>\n",
       "      <td>6.0</td>\n",
       "      <td>NaN</td>\n",
       "      <td>0.0</td>\n",
       "      <td>0.0</td>\n",
       "      <td>1</td>\n",
       "      <td>0</td>\n",
       "      <td>0</td>\n",
       "    </tr>\n",
       "    <tr>\n",
       "      <td>3</td>\n",
       "      <td>0.0</td>\n",
       "      <td>NaN</td>\n",
       "      <td>1</td>\n",
       "      <td>13.0</td>\n",
       "      <td>Grêmio</td>\n",
       "      <td>6.0</td>\n",
       "      <td>291.0</td>\n",
       "      <td>4.0</td>\n",
       "      <td>32.0</td>\n",
       "      <td>2.0</td>\n",
       "      <td>...</td>\n",
       "      <td>81.2</td>\n",
       "      <td>990.0</td>\n",
       "      <td>3.0</td>\n",
       "      <td>8.0</td>\n",
       "      <td>NaN</td>\n",
       "      <td>0.0</td>\n",
       "      <td>0.0</td>\n",
       "      <td>0</td>\n",
       "      <td>0</td>\n",
       "      <td>1</td>\n",
       "    </tr>\n",
       "    <tr>\n",
       "      <td>4</td>\n",
       "      <td>0.0</td>\n",
       "      <td>NaN</td>\n",
       "      <td>1</td>\n",
       "      <td>17.0</td>\n",
       "      <td>Palmeiras</td>\n",
       "      <td>0.0</td>\n",
       "      <td>296.0</td>\n",
       "      <td>2.0</td>\n",
       "      <td>45.0</td>\n",
       "      <td>1.0</td>\n",
       "      <td>...</td>\n",
       "      <td>84.2</td>\n",
       "      <td>990.0</td>\n",
       "      <td>1.0</td>\n",
       "      <td>2.0</td>\n",
       "      <td>NaN</td>\n",
       "      <td>0.0</td>\n",
       "      <td>0.0</td>\n",
       "      <td>0</td>\n",
       "      <td>1</td>\n",
       "      <td>0</td>\n",
       "    </tr>\n",
       "  </tbody>\n",
       "</table>\n",
       "<p>5 rows × 50 columns</p>\n",
       "</div>"
      ],
      "text/plain": [
       "   athlete_id  athlete_name  round  team_id  team_name  assistances  \\\n",
       "0         0.0           NaN      1      5.0   Botafogo          3.0   \n",
       "1         0.0           NaN      1     24.0  São Paulo          5.0   \n",
       "2         0.0           NaN      1     25.0      Vasco          2.0   \n",
       "3         0.0           NaN      1     13.0     Grêmio          6.0   \n",
       "4         0.0           NaN      1     17.0  Palmeiras          0.0   \n",
       "\n",
       "   receivedBalls  recoveredBalls  lostBalls  yellowCards  ...  \\\n",
       "0          253.0             5.0       23.0          0.0  ...   \n",
       "1          193.0             2.0       34.0          2.0  ...   \n",
       "2          205.0             1.0       33.0          1.0  ...   \n",
       "3          291.0             4.0       32.0          2.0  ...   \n",
       "4          296.0             2.0       45.0          1.0  ...   \n",
       "\n",
       "   sucessfulPassesPercent  timePlayed  switchField  backPasses  nickname  \\\n",
       "0                    83.7       990.0          1.0         4.0       NaN   \n",
       "1                    79.1       990.0          1.0         4.0       NaN   \n",
       "2                    82.1       990.0          5.0         6.0       NaN   \n",
       "3                    81.2       990.0          3.0         8.0       NaN   \n",
       "4                    84.2       990.0          1.0         2.0       NaN   \n",
       "\n",
       "   substitute  substituted  win  draw  defeat  \n",
       "0         0.0          0.0    1     0       0  \n",
       "1         0.0          0.0    0     0       1  \n",
       "2         0.0          0.0    1     0       0  \n",
       "3         0.0          0.0    0     0       1  \n",
       "4         0.0          0.0    0     1       0  \n",
       "\n",
       "[5 rows x 50 columns]"
      ]
     },
     "execution_count": 292,
     "metadata": {},
     "output_type": "execute_result"
    }
   ],
   "source": [
    "df.head()"
   ]
  },
  {
   "cell_type": "code",
   "execution_count": 293,
   "metadata": {},
   "outputs": [
    {
     "data": {
      "text/plain": [
       "Index(['athlete_id', 'athlete_name', 'round', 'team_id', 'team_name',\n",
       "       'assistances', 'receivedBalls', 'recoveredBalls', 'lostBalls',\n",
       "       'yellowCards', 'redCards', 'cards', 'crossBalls', 'receivedCrossBalls',\n",
       "       'missedCrossBalls', 'receivedCrossBallsPercent', 'defenses',\n",
       "       'sucessfulTackles', 'unsucessfulTackles', 'tackles', 'sucessfulDribles',\n",
       "       'unsucessfulDribles', 'dribles', 'givenCorners', 'receivedCorners',\n",
       "       'receivedFouls', 'committedFouls', 'goodFinishes', 'postFinishes',\n",
       "       'badFinishes', 'finishes', 'goals', 'ownGoals', 'offsides',\n",
       "       'longPasses', 'sucessfulLongPasses', 'unsucessfulLongPasses',\n",
       "       'sucessfulPasses', 'unsucessfulPasses', 'passes',\n",
       "       'sucessfulPassesPercent', 'timePlayed', 'switchField', 'backPasses',\n",
       "       'nickname', 'substitute', 'substituted', 'win', 'draw', 'defeat'],\n",
       "      dtype='object')"
      ]
     },
     "execution_count": 293,
     "metadata": {},
     "output_type": "execute_result"
    }
   ],
   "source": [
    "df.columns"
   ]
  },
  {
   "cell_type": "code",
   "execution_count": 294,
   "metadata": {},
   "outputs": [
    {
     "data": {
      "text/html": [
       "<div>\n",
       "<style scoped>\n",
       "    .dataframe tbody tr th:only-of-type {\n",
       "        vertical-align: middle;\n",
       "    }\n",
       "\n",
       "    .dataframe tbody tr th {\n",
       "        vertical-align: top;\n",
       "    }\n",
       "\n",
       "    .dataframe thead th {\n",
       "        text-align: right;\n",
       "    }\n",
       "</style>\n",
       "<table border=\"1\" class=\"dataframe\">\n",
       "  <thead>\n",
       "    <tr style=\"text-align: right;\">\n",
       "      <th></th>\n",
       "      <th>athlete_id</th>\n",
       "      <th>athlete_name</th>\n",
       "      <th>round</th>\n",
       "      <th>team_id</th>\n",
       "      <th>assistances</th>\n",
       "      <th>receivedBalls</th>\n",
       "      <th>recoveredBalls</th>\n",
       "      <th>lostBalls</th>\n",
       "      <th>yellowCards</th>\n",
       "      <th>redCards</th>\n",
       "      <th>...</th>\n",
       "      <th>sucessfulPassesPercent</th>\n",
       "      <th>timePlayed</th>\n",
       "      <th>switchField</th>\n",
       "      <th>backPasses</th>\n",
       "      <th>nickname</th>\n",
       "      <th>substitute</th>\n",
       "      <th>substituted</th>\n",
       "      <th>win</th>\n",
       "      <th>draw</th>\n",
       "      <th>defeat</th>\n",
       "    </tr>\n",
       "  </thead>\n",
       "  <tbody>\n",
       "    <tr>\n",
       "      <td>count</td>\n",
       "      <td>756.0</td>\n",
       "      <td>0.0</td>\n",
       "      <td>760.000000</td>\n",
       "      <td>756.000000</td>\n",
       "      <td>756.000000</td>\n",
       "      <td>756.000000</td>\n",
       "      <td>756.000000</td>\n",
       "      <td>756.000000</td>\n",
       "      <td>756.000000</td>\n",
       "      <td>756.000000</td>\n",
       "      <td>...</td>\n",
       "      <td>756.000000</td>\n",
       "      <td>756.000000</td>\n",
       "      <td>756.000000</td>\n",
       "      <td>756.000000</td>\n",
       "      <td>0.0</td>\n",
       "      <td>756.0</td>\n",
       "      <td>756.0</td>\n",
       "      <td>760.000000</td>\n",
       "      <td>760.000000</td>\n",
       "      <td>760.000000</td>\n",
       "    </tr>\n",
       "    <tr>\n",
       "      <td>mean</td>\n",
       "      <td>0.0</td>\n",
       "      <td>NaN</td>\n",
       "      <td>19.500000</td>\n",
       "      <td>76.781746</td>\n",
       "      <td>3.369048</td>\n",
       "      <td>226.791005</td>\n",
       "      <td>3.056878</td>\n",
       "      <td>32.878307</td>\n",
       "      <td>2.337302</td>\n",
       "      <td>0.145503</td>\n",
       "      <td>...</td>\n",
       "      <td>80.196296</td>\n",
       "      <td>984.927279</td>\n",
       "      <td>2.146825</td>\n",
       "      <td>3.279101</td>\n",
       "      <td>NaN</td>\n",
       "      <td>0.0</td>\n",
       "      <td>0.0</td>\n",
       "      <td>0.359211</td>\n",
       "      <td>0.281579</td>\n",
       "      <td>0.359211</td>\n",
       "    </tr>\n",
       "    <tr>\n",
       "      <td>std</td>\n",
       "      <td>0.0</td>\n",
       "      <td>NaN</td>\n",
       "      <td>10.973078</td>\n",
       "      <td>235.210186</td>\n",
       "      <td>2.196335</td>\n",
       "      <td>63.948520</td>\n",
       "      <td>1.902440</td>\n",
       "      <td>8.524744</td>\n",
       "      <td>1.391073</td>\n",
       "      <td>0.367549</td>\n",
       "      <td>...</td>\n",
       "      <td>5.581413</td>\n",
       "      <td>38.360813</td>\n",
       "      <td>1.997582</td>\n",
       "      <td>2.373728</td>\n",
       "      <td>NaN</td>\n",
       "      <td>0.0</td>\n",
       "      <td>0.0</td>\n",
       "      <td>0.480085</td>\n",
       "      <td>0.450065</td>\n",
       "      <td>0.480085</td>\n",
       "    </tr>\n",
       "    <tr>\n",
       "      <td>min</td>\n",
       "      <td>0.0</td>\n",
       "      <td>NaN</td>\n",
       "      <td>1.000000</td>\n",
       "      <td>1.000000</td>\n",
       "      <td>0.000000</td>\n",
       "      <td>88.000000</td>\n",
       "      <td>0.000000</td>\n",
       "      <td>6.000000</td>\n",
       "      <td>0.000000</td>\n",
       "      <td>0.000000</td>\n",
       "      <td>...</td>\n",
       "      <td>56.700000</td>\n",
       "      <td>1.023000</td>\n",
       "      <td>0.000000</td>\n",
       "      <td>0.000000</td>\n",
       "      <td>NaN</td>\n",
       "      <td>0.0</td>\n",
       "      <td>0.0</td>\n",
       "      <td>0.000000</td>\n",
       "      <td>0.000000</td>\n",
       "      <td>0.000000</td>\n",
       "    </tr>\n",
       "    <tr>\n",
       "      <td>25%</td>\n",
       "      <td>0.0</td>\n",
       "      <td>NaN</td>\n",
       "      <td>10.000000</td>\n",
       "      <td>8.500000</td>\n",
       "      <td>2.000000</td>\n",
       "      <td>179.000000</td>\n",
       "      <td>2.000000</td>\n",
       "      <td>27.000000</td>\n",
       "      <td>1.000000</td>\n",
       "      <td>0.000000</td>\n",
       "      <td>...</td>\n",
       "      <td>76.800000</td>\n",
       "      <td>990.000000</td>\n",
       "      <td>1.000000</td>\n",
       "      <td>1.000000</td>\n",
       "      <td>NaN</td>\n",
       "      <td>0.0</td>\n",
       "      <td>0.0</td>\n",
       "      <td>0.000000</td>\n",
       "      <td>0.000000</td>\n",
       "      <td>0.000000</td>\n",
       "    </tr>\n",
       "    <tr>\n",
       "      <td>50%</td>\n",
       "      <td>0.0</td>\n",
       "      <td>NaN</td>\n",
       "      <td>19.500000</td>\n",
       "      <td>17.000000</td>\n",
       "      <td>3.000000</td>\n",
       "      <td>219.000000</td>\n",
       "      <td>3.000000</td>\n",
       "      <td>33.000000</td>\n",
       "      <td>2.000000</td>\n",
       "      <td>0.000000</td>\n",
       "      <td>...</td>\n",
       "      <td>80.800000</td>\n",
       "      <td>990.000000</td>\n",
       "      <td>2.000000</td>\n",
       "      <td>3.000000</td>\n",
       "      <td>NaN</td>\n",
       "      <td>0.0</td>\n",
       "      <td>0.0</td>\n",
       "      <td>0.000000</td>\n",
       "      <td>0.000000</td>\n",
       "      <td>0.000000</td>\n",
       "    </tr>\n",
       "    <tr>\n",
       "      <td>75%</td>\n",
       "      <td>0.0</td>\n",
       "      <td>NaN</td>\n",
       "      <td>29.000000</td>\n",
       "      <td>30.000000</td>\n",
       "      <td>5.000000</td>\n",
       "      <td>271.250000</td>\n",
       "      <td>4.000000</td>\n",
       "      <td>38.000000</td>\n",
       "      <td>3.000000</td>\n",
       "      <td>0.000000</td>\n",
       "      <td>...</td>\n",
       "      <td>84.200000</td>\n",
       "      <td>990.000000</td>\n",
       "      <td>3.000000</td>\n",
       "      <td>5.000000</td>\n",
       "      <td>NaN</td>\n",
       "      <td>0.0</td>\n",
       "      <td>0.0</td>\n",
       "      <td>1.000000</td>\n",
       "      <td>1.000000</td>\n",
       "      <td>1.000000</td>\n",
       "    </tr>\n",
       "    <tr>\n",
       "      <td>max</td>\n",
       "      <td>0.0</td>\n",
       "      <td>NaN</td>\n",
       "      <td>38.000000</td>\n",
       "      <td>1094.000000</td>\n",
       "      <td>13.000000</td>\n",
       "      <td>473.000000</td>\n",
       "      <td>11.000000</td>\n",
       "      <td>63.000000</td>\n",
       "      <td>8.000000</td>\n",
       "      <td>2.000000</td>\n",
       "      <td>...</td>\n",
       "      <td>93.200000</td>\n",
       "      <td>996.000000</td>\n",
       "      <td>11.000000</td>\n",
       "      <td>14.000000</td>\n",
       "      <td>NaN</td>\n",
       "      <td>0.0</td>\n",
       "      <td>0.0</td>\n",
       "      <td>1.000000</td>\n",
       "      <td>1.000000</td>\n",
       "      <td>1.000000</td>\n",
       "    </tr>\n",
       "  </tbody>\n",
       "</table>\n",
       "<p>8 rows × 49 columns</p>\n",
       "</div>"
      ],
      "text/plain": [
       "       athlete_id  athlete_name       round      team_id  assistances  \\\n",
       "count       756.0           0.0  760.000000   756.000000   756.000000   \n",
       "mean          0.0           NaN   19.500000    76.781746     3.369048   \n",
       "std           0.0           NaN   10.973078   235.210186     2.196335   \n",
       "min           0.0           NaN    1.000000     1.000000     0.000000   \n",
       "25%           0.0           NaN   10.000000     8.500000     2.000000   \n",
       "50%           0.0           NaN   19.500000    17.000000     3.000000   \n",
       "75%           0.0           NaN   29.000000    30.000000     5.000000   \n",
       "max           0.0           NaN   38.000000  1094.000000    13.000000   \n",
       "\n",
       "       receivedBalls  recoveredBalls   lostBalls  yellowCards    redCards  \\\n",
       "count     756.000000      756.000000  756.000000   756.000000  756.000000   \n",
       "mean      226.791005        3.056878   32.878307     2.337302    0.145503   \n",
       "std        63.948520        1.902440    8.524744     1.391073    0.367549   \n",
       "min        88.000000        0.000000    6.000000     0.000000    0.000000   \n",
       "25%       179.000000        2.000000   27.000000     1.000000    0.000000   \n",
       "50%       219.000000        3.000000   33.000000     2.000000    0.000000   \n",
       "75%       271.250000        4.000000   38.000000     3.000000    0.000000   \n",
       "max       473.000000       11.000000   63.000000     8.000000    2.000000   \n",
       "\n",
       "       ...  sucessfulPassesPercent  timePlayed  switchField  backPasses  \\\n",
       "count  ...              756.000000  756.000000   756.000000  756.000000   \n",
       "mean   ...               80.196296  984.927279     2.146825    3.279101   \n",
       "std    ...                5.581413   38.360813     1.997582    2.373728   \n",
       "min    ...               56.700000    1.023000     0.000000    0.000000   \n",
       "25%    ...               76.800000  990.000000     1.000000    1.000000   \n",
       "50%    ...               80.800000  990.000000     2.000000    3.000000   \n",
       "75%    ...               84.200000  990.000000     3.000000    5.000000   \n",
       "max    ...               93.200000  996.000000    11.000000   14.000000   \n",
       "\n",
       "       nickname  substitute  substituted         win        draw      defeat  \n",
       "count       0.0       756.0        756.0  760.000000  760.000000  760.000000  \n",
       "mean        NaN         0.0          0.0    0.359211    0.281579    0.359211  \n",
       "std         NaN         0.0          0.0    0.480085    0.450065    0.480085  \n",
       "min         NaN         0.0          0.0    0.000000    0.000000    0.000000  \n",
       "25%         NaN         0.0          0.0    0.000000    0.000000    0.000000  \n",
       "50%         NaN         0.0          0.0    0.000000    0.000000    0.000000  \n",
       "75%         NaN         0.0          0.0    1.000000    1.000000    1.000000  \n",
       "max         NaN         0.0          0.0    1.000000    1.000000    1.000000  \n",
       "\n",
       "[8 rows x 49 columns]"
      ]
     },
     "execution_count": 294,
     "metadata": {},
     "output_type": "execute_result"
    }
   ],
   "source": [
    "df.describe()"
   ]
  },
  {
   "cell_type": "code",
   "execution_count": 295,
   "metadata": {},
   "outputs": [],
   "source": [
    "# Selecionando apenas as características que nos interessa\n",
    "df = df[['assistances', 'receivedBalls', 'recoveredBalls', 'lostBalls', 'yellowCards', 'redCards', 'receivedCrossBalls', 'missedCrossBalls', 'receivedCrossBallsPercent', 'defenses', 'sucessfulTackles', 'sucessfulDribles',\n",
    "       'unsucessfulDribles', 'givenCorners', 'receivedCorners',\n",
    "       'receivedFouls', 'committedFouls', 'goodFinishes','badFinishes', 'finishes', 'goals', 'ownGoals', 'offsides','sucessfulLongPasses', 'unsucessfulLongPasses',\n",
    "       'sucessfulPasses', 'unsucessfulPasses', 'win', 'draw', 'defeat']]"
   ]
  },
  {
   "cell_type": "code",
   "execution_count": 296,
   "metadata": {},
   "outputs": [
    {
     "data": {
      "text/html": [
       "<div>\n",
       "<style scoped>\n",
       "    .dataframe tbody tr th:only-of-type {\n",
       "        vertical-align: middle;\n",
       "    }\n",
       "\n",
       "    .dataframe tbody tr th {\n",
       "        vertical-align: top;\n",
       "    }\n",
       "\n",
       "    .dataframe thead th {\n",
       "        text-align: right;\n",
       "    }\n",
       "</style>\n",
       "<table border=\"1\" class=\"dataframe\">\n",
       "  <thead>\n",
       "    <tr style=\"text-align: right;\">\n",
       "      <th></th>\n",
       "      <th>assistances</th>\n",
       "      <th>receivedBalls</th>\n",
       "      <th>recoveredBalls</th>\n",
       "      <th>lostBalls</th>\n",
       "      <th>yellowCards</th>\n",
       "      <th>redCards</th>\n",
       "      <th>receivedCrossBalls</th>\n",
       "      <th>missedCrossBalls</th>\n",
       "      <th>receivedCrossBallsPercent</th>\n",
       "      <th>defenses</th>\n",
       "      <th>...</th>\n",
       "      <th>goals</th>\n",
       "      <th>ownGoals</th>\n",
       "      <th>offsides</th>\n",
       "      <th>sucessfulLongPasses</th>\n",
       "      <th>unsucessfulLongPasses</th>\n",
       "      <th>sucessfulPasses</th>\n",
       "      <th>unsucessfulPasses</th>\n",
       "      <th>win</th>\n",
       "      <th>draw</th>\n",
       "      <th>defeat</th>\n",
       "    </tr>\n",
       "  </thead>\n",
       "  <tbody>\n",
       "    <tr>\n",
       "      <td>0</td>\n",
       "      <td>3.0</td>\n",
       "      <td>253.0</td>\n",
       "      <td>5.0</td>\n",
       "      <td>23.0</td>\n",
       "      <td>0.0</td>\n",
       "      <td>0.0</td>\n",
       "      <td>7.0</td>\n",
       "      <td>23.0</td>\n",
       "      <td>23.3</td>\n",
       "      <td>3.0</td>\n",
       "      <td>...</td>\n",
       "      <td>4.0</td>\n",
       "      <td>0.0</td>\n",
       "      <td>1.0</td>\n",
       "      <td>0.0</td>\n",
       "      <td>0.0</td>\n",
       "      <td>242.0</td>\n",
       "      <td>47.0</td>\n",
       "      <td>1</td>\n",
       "      <td>0</td>\n",
       "      <td>0</td>\n",
       "    </tr>\n",
       "    <tr>\n",
       "      <td>1</td>\n",
       "      <td>5.0</td>\n",
       "      <td>193.0</td>\n",
       "      <td>2.0</td>\n",
       "      <td>34.0</td>\n",
       "      <td>2.0</td>\n",
       "      <td>0.0</td>\n",
       "      <td>5.0</td>\n",
       "      <td>4.0</td>\n",
       "      <td>55.6</td>\n",
       "      <td>4.0</td>\n",
       "      <td>...</td>\n",
       "      <td>2.0</td>\n",
       "      <td>0.0</td>\n",
       "      <td>2.0</td>\n",
       "      <td>0.0</td>\n",
       "      <td>1.0</td>\n",
       "      <td>185.0</td>\n",
       "      <td>49.0</td>\n",
       "      <td>0</td>\n",
       "      <td>0</td>\n",
       "      <td>1</td>\n",
       "    </tr>\n",
       "    <tr>\n",
       "      <td>2</td>\n",
       "      <td>2.0</td>\n",
       "      <td>205.0</td>\n",
       "      <td>1.0</td>\n",
       "      <td>33.0</td>\n",
       "      <td>1.0</td>\n",
       "      <td>0.0</td>\n",
       "      <td>3.0</td>\n",
       "      <td>20.0</td>\n",
       "      <td>13.0</td>\n",
       "      <td>3.0</td>\n",
       "      <td>...</td>\n",
       "      <td>2.0</td>\n",
       "      <td>0.0</td>\n",
       "      <td>1.0</td>\n",
       "      <td>1.0</td>\n",
       "      <td>0.0</td>\n",
       "      <td>197.0</td>\n",
       "      <td>43.0</td>\n",
       "      <td>1</td>\n",
       "      <td>0</td>\n",
       "      <td>0</td>\n",
       "    </tr>\n",
       "    <tr>\n",
       "      <td>3</td>\n",
       "      <td>6.0</td>\n",
       "      <td>291.0</td>\n",
       "      <td>4.0</td>\n",
       "      <td>32.0</td>\n",
       "      <td>2.0</td>\n",
       "      <td>0.0</td>\n",
       "      <td>5.0</td>\n",
       "      <td>17.0</td>\n",
       "      <td>22.7</td>\n",
       "      <td>2.0</td>\n",
       "      <td>...</td>\n",
       "      <td>1.0</td>\n",
       "      <td>0.0</td>\n",
       "      <td>5.0</td>\n",
       "      <td>0.0</td>\n",
       "      <td>1.0</td>\n",
       "      <td>281.0</td>\n",
       "      <td>65.0</td>\n",
       "      <td>0</td>\n",
       "      <td>0</td>\n",
       "      <td>1</td>\n",
       "    </tr>\n",
       "    <tr>\n",
       "      <td>4</td>\n",
       "      <td>0.0</td>\n",
       "      <td>296.0</td>\n",
       "      <td>2.0</td>\n",
       "      <td>45.0</td>\n",
       "      <td>1.0</td>\n",
       "      <td>0.0</td>\n",
       "      <td>7.0</td>\n",
       "      <td>10.0</td>\n",
       "      <td>41.2</td>\n",
       "      <td>5.0</td>\n",
       "      <td>...</td>\n",
       "      <td>1.0</td>\n",
       "      <td>0.0</td>\n",
       "      <td>0.0</td>\n",
       "      <td>0.0</td>\n",
       "      <td>2.0</td>\n",
       "      <td>287.0</td>\n",
       "      <td>54.0</td>\n",
       "      <td>0</td>\n",
       "      <td>1</td>\n",
       "      <td>0</td>\n",
       "    </tr>\n",
       "  </tbody>\n",
       "</table>\n",
       "<p>5 rows × 30 columns</p>\n",
       "</div>"
      ],
      "text/plain": [
       "   assistances  receivedBalls  recoveredBalls  lostBalls  yellowCards  \\\n",
       "0          3.0          253.0             5.0       23.0          0.0   \n",
       "1          5.0          193.0             2.0       34.0          2.0   \n",
       "2          2.0          205.0             1.0       33.0          1.0   \n",
       "3          6.0          291.0             4.0       32.0          2.0   \n",
       "4          0.0          296.0             2.0       45.0          1.0   \n",
       "\n",
       "   redCards  receivedCrossBalls  missedCrossBalls  receivedCrossBallsPercent  \\\n",
       "0       0.0                 7.0              23.0                       23.3   \n",
       "1       0.0                 5.0               4.0                       55.6   \n",
       "2       0.0                 3.0              20.0                       13.0   \n",
       "3       0.0                 5.0              17.0                       22.7   \n",
       "4       0.0                 7.0              10.0                       41.2   \n",
       "\n",
       "   defenses  ...  goals  ownGoals  offsides  sucessfulLongPasses  \\\n",
       "0       3.0  ...    4.0       0.0       1.0                  0.0   \n",
       "1       4.0  ...    2.0       0.0       2.0                  0.0   \n",
       "2       3.0  ...    2.0       0.0       1.0                  1.0   \n",
       "3       2.0  ...    1.0       0.0       5.0                  0.0   \n",
       "4       5.0  ...    1.0       0.0       0.0                  0.0   \n",
       "\n",
       "   unsucessfulLongPasses  sucessfulPasses  unsucessfulPasses  win  draw  \\\n",
       "0                    0.0            242.0               47.0    1     0   \n",
       "1                    1.0            185.0               49.0    0     0   \n",
       "2                    0.0            197.0               43.0    1     0   \n",
       "3                    1.0            281.0               65.0    0     0   \n",
       "4                    2.0            287.0               54.0    0     1   \n",
       "\n",
       "   defeat  \n",
       "0       0  \n",
       "1       1  \n",
       "2       0  \n",
       "3       1  \n",
       "4       0  \n",
       "\n",
       "[5 rows x 30 columns]"
      ]
     },
     "execution_count": 296,
     "metadata": {},
     "output_type": "execute_result"
    }
   ],
   "source": [
    "df.head()"
   ]
  },
  {
   "cell_type": "code",
   "execution_count": 297,
   "metadata": {},
   "outputs": [],
   "source": [
    "# Junção das 3 colunas de resultados em uma só\n",
    "def convert_output(source):\n",
    "    target = source.copy() #make a copy from source\n",
    "    target['new'] = 2 #create a new column and initialize it with a random value\n",
    "    for i, rows in target.iterrows():\n",
    "        if rows['win'] == 1:\n",
    "            rows['new'] = 2\n",
    "        if rows['draw'] == 1:\n",
    "            rows['new'] = 1\n",
    "        if rows['defeat'] == 1:\n",
    "            rows['new'] = 0\n",
    "    return target.iloc[:, -1]  # return all rows, and only the last column\n",
    "\n",
    "df['FTR'] = convert_output(df[['win','draw','defeat']])"
   ]
  },
  {
   "cell_type": "code",
   "execution_count": 298,
   "metadata": {},
   "outputs": [],
   "source": [
    "df.drop(['win','draw','defeat'],axis=1, inplace=True)"
   ]
  },
  {
   "cell_type": "code",
   "execution_count": 299,
   "metadata": {},
   "outputs": [
    {
     "data": {
      "text/html": [
       "<div>\n",
       "<style scoped>\n",
       "    .dataframe tbody tr th:only-of-type {\n",
       "        vertical-align: middle;\n",
       "    }\n",
       "\n",
       "    .dataframe tbody tr th {\n",
       "        vertical-align: top;\n",
       "    }\n",
       "\n",
       "    .dataframe thead th {\n",
       "        text-align: right;\n",
       "    }\n",
       "</style>\n",
       "<table border=\"1\" class=\"dataframe\">\n",
       "  <thead>\n",
       "    <tr style=\"text-align: right;\">\n",
       "      <th></th>\n",
       "      <th>assistances</th>\n",
       "      <th>receivedBalls</th>\n",
       "      <th>recoveredBalls</th>\n",
       "      <th>lostBalls</th>\n",
       "      <th>yellowCards</th>\n",
       "      <th>redCards</th>\n",
       "      <th>receivedCrossBalls</th>\n",
       "      <th>missedCrossBalls</th>\n",
       "      <th>receivedCrossBallsPercent</th>\n",
       "      <th>defenses</th>\n",
       "      <th>...</th>\n",
       "      <th>badFinishes</th>\n",
       "      <th>finishes</th>\n",
       "      <th>goals</th>\n",
       "      <th>ownGoals</th>\n",
       "      <th>offsides</th>\n",
       "      <th>sucessfulLongPasses</th>\n",
       "      <th>unsucessfulLongPasses</th>\n",
       "      <th>sucessfulPasses</th>\n",
       "      <th>unsucessfulPasses</th>\n",
       "      <th>FTR</th>\n",
       "    </tr>\n",
       "  </thead>\n",
       "  <tbody>\n",
       "    <tr>\n",
       "      <td>0</td>\n",
       "      <td>3.0</td>\n",
       "      <td>253.0</td>\n",
       "      <td>5.0</td>\n",
       "      <td>23.0</td>\n",
       "      <td>0.0</td>\n",
       "      <td>0.0</td>\n",
       "      <td>7.0</td>\n",
       "      <td>23.0</td>\n",
       "      <td>23.3</td>\n",
       "      <td>3.0</td>\n",
       "      <td>...</td>\n",
       "      <td>10.0</td>\n",
       "      <td>18.0</td>\n",
       "      <td>4.0</td>\n",
       "      <td>0.0</td>\n",
       "      <td>1.0</td>\n",
       "      <td>0.0</td>\n",
       "      <td>0.0</td>\n",
       "      <td>242.0</td>\n",
       "      <td>47.0</td>\n",
       "      <td>2</td>\n",
       "    </tr>\n",
       "    <tr>\n",
       "      <td>1</td>\n",
       "      <td>5.0</td>\n",
       "      <td>193.0</td>\n",
       "      <td>2.0</td>\n",
       "      <td>34.0</td>\n",
       "      <td>2.0</td>\n",
       "      <td>0.0</td>\n",
       "      <td>5.0</td>\n",
       "      <td>4.0</td>\n",
       "      <td>55.6</td>\n",
       "      <td>4.0</td>\n",
       "      <td>...</td>\n",
       "      <td>11.0</td>\n",
       "      <td>16.0</td>\n",
       "      <td>2.0</td>\n",
       "      <td>0.0</td>\n",
       "      <td>2.0</td>\n",
       "      <td>0.0</td>\n",
       "      <td>1.0</td>\n",
       "      <td>185.0</td>\n",
       "      <td>49.0</td>\n",
       "      <td>0</td>\n",
       "    </tr>\n",
       "    <tr>\n",
       "      <td>2</td>\n",
       "      <td>2.0</td>\n",
       "      <td>205.0</td>\n",
       "      <td>1.0</td>\n",
       "      <td>33.0</td>\n",
       "      <td>1.0</td>\n",
       "      <td>0.0</td>\n",
       "      <td>3.0</td>\n",
       "      <td>20.0</td>\n",
       "      <td>13.0</td>\n",
       "      <td>3.0</td>\n",
       "      <td>...</td>\n",
       "      <td>9.0</td>\n",
       "      <td>13.0</td>\n",
       "      <td>2.0</td>\n",
       "      <td>0.0</td>\n",
       "      <td>1.0</td>\n",
       "      <td>1.0</td>\n",
       "      <td>0.0</td>\n",
       "      <td>197.0</td>\n",
       "      <td>43.0</td>\n",
       "      <td>2</td>\n",
       "    </tr>\n",
       "    <tr>\n",
       "      <td>3</td>\n",
       "      <td>6.0</td>\n",
       "      <td>291.0</td>\n",
       "      <td>4.0</td>\n",
       "      <td>32.0</td>\n",
       "      <td>2.0</td>\n",
       "      <td>0.0</td>\n",
       "      <td>5.0</td>\n",
       "      <td>17.0</td>\n",
       "      <td>22.7</td>\n",
       "      <td>2.0</td>\n",
       "      <td>...</td>\n",
       "      <td>11.0</td>\n",
       "      <td>15.0</td>\n",
       "      <td>1.0</td>\n",
       "      <td>0.0</td>\n",
       "      <td>5.0</td>\n",
       "      <td>0.0</td>\n",
       "      <td>1.0</td>\n",
       "      <td>281.0</td>\n",
       "      <td>65.0</td>\n",
       "      <td>0</td>\n",
       "    </tr>\n",
       "    <tr>\n",
       "      <td>4</td>\n",
       "      <td>0.0</td>\n",
       "      <td>296.0</td>\n",
       "      <td>2.0</td>\n",
       "      <td>45.0</td>\n",
       "      <td>1.0</td>\n",
       "      <td>0.0</td>\n",
       "      <td>7.0</td>\n",
       "      <td>10.0</td>\n",
       "      <td>41.2</td>\n",
       "      <td>5.0</td>\n",
       "      <td>...</td>\n",
       "      <td>10.0</td>\n",
       "      <td>22.0</td>\n",
       "      <td>1.0</td>\n",
       "      <td>0.0</td>\n",
       "      <td>0.0</td>\n",
       "      <td>0.0</td>\n",
       "      <td>2.0</td>\n",
       "      <td>287.0</td>\n",
       "      <td>54.0</td>\n",
       "      <td>1</td>\n",
       "    </tr>\n",
       "  </tbody>\n",
       "</table>\n",
       "<p>5 rows × 28 columns</p>\n",
       "</div>"
      ],
      "text/plain": [
       "   assistances  receivedBalls  recoveredBalls  lostBalls  yellowCards  \\\n",
       "0          3.0          253.0             5.0       23.0          0.0   \n",
       "1          5.0          193.0             2.0       34.0          2.0   \n",
       "2          2.0          205.0             1.0       33.0          1.0   \n",
       "3          6.0          291.0             4.0       32.0          2.0   \n",
       "4          0.0          296.0             2.0       45.0          1.0   \n",
       "\n",
       "   redCards  receivedCrossBalls  missedCrossBalls  receivedCrossBallsPercent  \\\n",
       "0       0.0                 7.0              23.0                       23.3   \n",
       "1       0.0                 5.0               4.0                       55.6   \n",
       "2       0.0                 3.0              20.0                       13.0   \n",
       "3       0.0                 5.0              17.0                       22.7   \n",
       "4       0.0                 7.0              10.0                       41.2   \n",
       "\n",
       "   defenses  ...  badFinishes  finishes  goals  ownGoals  offsides  \\\n",
       "0       3.0  ...         10.0      18.0    4.0       0.0       1.0   \n",
       "1       4.0  ...         11.0      16.0    2.0       0.0       2.0   \n",
       "2       3.0  ...          9.0      13.0    2.0       0.0       1.0   \n",
       "3       2.0  ...         11.0      15.0    1.0       0.0       5.0   \n",
       "4       5.0  ...         10.0      22.0    1.0       0.0       0.0   \n",
       "\n",
       "   sucessfulLongPasses  unsucessfulLongPasses  sucessfulPasses  \\\n",
       "0                  0.0                    0.0            242.0   \n",
       "1                  0.0                    1.0            185.0   \n",
       "2                  1.0                    0.0            197.0   \n",
       "3                  0.0                    1.0            281.0   \n",
       "4                  0.0                    2.0            287.0   \n",
       "\n",
       "   unsucessfulPasses  FTR  \n",
       "0               47.0    2  \n",
       "1               49.0    0  \n",
       "2               43.0    2  \n",
       "3               65.0    0  \n",
       "4               54.0    1  \n",
       "\n",
       "[5 rows x 28 columns]"
      ]
     },
     "execution_count": 299,
     "metadata": {},
     "output_type": "execute_result"
    }
   ],
   "source": [
    "df.head()"
   ]
  },
  {
   "cell_type": "code",
   "execution_count": 300,
   "metadata": {},
   "outputs": [
    {
     "name": "stdout",
     "output_type": "stream",
     "text": [
      "<class 'pandas.core.frame.DataFrame'>\n",
      "RangeIndex: 760 entries, 0 to 759\n",
      "Data columns (total 28 columns):\n",
      "assistances                  756 non-null float64\n",
      "receivedBalls                756 non-null float64\n",
      "recoveredBalls               756 non-null float64\n",
      "lostBalls                    756 non-null float64\n",
      "yellowCards                  756 non-null float64\n",
      "redCards                     756 non-null float64\n",
      "receivedCrossBalls           756 non-null float64\n",
      "missedCrossBalls             756 non-null float64\n",
      "receivedCrossBallsPercent    756 non-null float64\n",
      "defenses                     756 non-null float64\n",
      "sucessfulTackles             756 non-null float64\n",
      "sucessfulDribles             756 non-null float64\n",
      "unsucessfulDribles           756 non-null float64\n",
      "givenCorners                 756 non-null float64\n",
      "receivedCorners              756 non-null float64\n",
      "receivedFouls                756 non-null float64\n",
      "committedFouls               756 non-null float64\n",
      "goodFinishes                 756 non-null float64\n",
      "badFinishes                  756 non-null float64\n",
      "finishes                     756 non-null float64\n",
      "goals                        756 non-null float64\n",
      "ownGoals                     756 non-null float64\n",
      "offsides                     756 non-null float64\n",
      "sucessfulLongPasses          756 non-null float64\n",
      "unsucessfulLongPasses        756 non-null float64\n",
      "sucessfulPasses              756 non-null float64\n",
      "unsucessfulPasses            756 non-null float64\n",
      "FTR                          760 non-null int64\n",
      "dtypes: float64(27), int64(1)\n",
      "memory usage: 166.4 KB\n"
     ]
    }
   ],
   "source": [
    "df.info()"
   ]
  },
  {
   "cell_type": "code",
   "execution_count": 301,
   "metadata": {},
   "outputs": [
    {
     "data": {
      "text/plain": [
       "assistances                  4\n",
       "receivedBalls                4\n",
       "recoveredBalls               4\n",
       "lostBalls                    4\n",
       "yellowCards                  4\n",
       "redCards                     4\n",
       "receivedCrossBalls           4\n",
       "missedCrossBalls             4\n",
       "receivedCrossBallsPercent    4\n",
       "defenses                     4\n",
       "sucessfulTackles             4\n",
       "sucessfulDribles             4\n",
       "unsucessfulDribles           4\n",
       "givenCorners                 4\n",
       "receivedCorners              4\n",
       "receivedFouls                4\n",
       "committedFouls               4\n",
       "goodFinishes                 4\n",
       "badFinishes                  4\n",
       "finishes                     4\n",
       "goals                        4\n",
       "ownGoals                     4\n",
       "offsides                     4\n",
       "sucessfulLongPasses          4\n",
       "unsucessfulLongPasses        4\n",
       "sucessfulPasses              4\n",
       "unsucessfulPasses            4\n",
       "FTR                          0\n",
       "dtype: int64"
      ]
     },
     "execution_count": 301,
     "metadata": {},
     "output_type": "execute_result"
    }
   ],
   "source": [
    "df.isnull().sum()"
   ]
  },
  {
   "cell_type": "code",
   "execution_count": 302,
   "metadata": {},
   "outputs": [
    {
     "data": {
      "text/html": [
       "<div>\n",
       "<style scoped>\n",
       "    .dataframe tbody tr th:only-of-type {\n",
       "        vertical-align: middle;\n",
       "    }\n",
       "\n",
       "    .dataframe tbody tr th {\n",
       "        vertical-align: top;\n",
       "    }\n",
       "\n",
       "    .dataframe thead th {\n",
       "        text-align: right;\n",
       "    }\n",
       "</style>\n",
       "<table border=\"1\" class=\"dataframe\">\n",
       "  <thead>\n",
       "    <tr style=\"text-align: right;\">\n",
       "      <th></th>\n",
       "      <th>assistances</th>\n",
       "      <th>receivedBalls</th>\n",
       "      <th>recoveredBalls</th>\n",
       "      <th>lostBalls</th>\n",
       "      <th>yellowCards</th>\n",
       "      <th>redCards</th>\n",
       "      <th>receivedCrossBalls</th>\n",
       "      <th>missedCrossBalls</th>\n",
       "      <th>receivedCrossBallsPercent</th>\n",
       "      <th>defenses</th>\n",
       "      <th>...</th>\n",
       "      <th>badFinishes</th>\n",
       "      <th>finishes</th>\n",
       "      <th>goals</th>\n",
       "      <th>ownGoals</th>\n",
       "      <th>offsides</th>\n",
       "      <th>sucessfulLongPasses</th>\n",
       "      <th>unsucessfulLongPasses</th>\n",
       "      <th>sucessfulPasses</th>\n",
       "      <th>unsucessfulPasses</th>\n",
       "      <th>FTR</th>\n",
       "    </tr>\n",
       "  </thead>\n",
       "  <tbody>\n",
       "    <tr>\n",
       "      <td>0</td>\n",
       "      <td>3.0</td>\n",
       "      <td>253.0</td>\n",
       "      <td>5.0</td>\n",
       "      <td>23.0</td>\n",
       "      <td>0.0</td>\n",
       "      <td>0.0</td>\n",
       "      <td>7.0</td>\n",
       "      <td>23.0</td>\n",
       "      <td>23.3</td>\n",
       "      <td>3.0</td>\n",
       "      <td>...</td>\n",
       "      <td>10.0</td>\n",
       "      <td>18.0</td>\n",
       "      <td>4.0</td>\n",
       "      <td>0.0</td>\n",
       "      <td>1.0</td>\n",
       "      <td>0.0</td>\n",
       "      <td>0.0</td>\n",
       "      <td>242.0</td>\n",
       "      <td>47.0</td>\n",
       "      <td>2</td>\n",
       "    </tr>\n",
       "    <tr>\n",
       "      <td>1</td>\n",
       "      <td>5.0</td>\n",
       "      <td>193.0</td>\n",
       "      <td>2.0</td>\n",
       "      <td>34.0</td>\n",
       "      <td>2.0</td>\n",
       "      <td>0.0</td>\n",
       "      <td>5.0</td>\n",
       "      <td>4.0</td>\n",
       "      <td>55.6</td>\n",
       "      <td>4.0</td>\n",
       "      <td>...</td>\n",
       "      <td>11.0</td>\n",
       "      <td>16.0</td>\n",
       "      <td>2.0</td>\n",
       "      <td>0.0</td>\n",
       "      <td>2.0</td>\n",
       "      <td>0.0</td>\n",
       "      <td>1.0</td>\n",
       "      <td>185.0</td>\n",
       "      <td>49.0</td>\n",
       "      <td>0</td>\n",
       "    </tr>\n",
       "    <tr>\n",
       "      <td>2</td>\n",
       "      <td>2.0</td>\n",
       "      <td>205.0</td>\n",
       "      <td>1.0</td>\n",
       "      <td>33.0</td>\n",
       "      <td>1.0</td>\n",
       "      <td>0.0</td>\n",
       "      <td>3.0</td>\n",
       "      <td>20.0</td>\n",
       "      <td>13.0</td>\n",
       "      <td>3.0</td>\n",
       "      <td>...</td>\n",
       "      <td>9.0</td>\n",
       "      <td>13.0</td>\n",
       "      <td>2.0</td>\n",
       "      <td>0.0</td>\n",
       "      <td>1.0</td>\n",
       "      <td>1.0</td>\n",
       "      <td>0.0</td>\n",
       "      <td>197.0</td>\n",
       "      <td>43.0</td>\n",
       "      <td>2</td>\n",
       "    </tr>\n",
       "    <tr>\n",
       "      <td>3</td>\n",
       "      <td>6.0</td>\n",
       "      <td>291.0</td>\n",
       "      <td>4.0</td>\n",
       "      <td>32.0</td>\n",
       "      <td>2.0</td>\n",
       "      <td>0.0</td>\n",
       "      <td>5.0</td>\n",
       "      <td>17.0</td>\n",
       "      <td>22.7</td>\n",
       "      <td>2.0</td>\n",
       "      <td>...</td>\n",
       "      <td>11.0</td>\n",
       "      <td>15.0</td>\n",
       "      <td>1.0</td>\n",
       "      <td>0.0</td>\n",
       "      <td>5.0</td>\n",
       "      <td>0.0</td>\n",
       "      <td>1.0</td>\n",
       "      <td>281.0</td>\n",
       "      <td>65.0</td>\n",
       "      <td>0</td>\n",
       "    </tr>\n",
       "    <tr>\n",
       "      <td>4</td>\n",
       "      <td>0.0</td>\n",
       "      <td>296.0</td>\n",
       "      <td>2.0</td>\n",
       "      <td>45.0</td>\n",
       "      <td>1.0</td>\n",
       "      <td>0.0</td>\n",
       "      <td>7.0</td>\n",
       "      <td>10.0</td>\n",
       "      <td>41.2</td>\n",
       "      <td>5.0</td>\n",
       "      <td>...</td>\n",
       "      <td>10.0</td>\n",
       "      <td>22.0</td>\n",
       "      <td>1.0</td>\n",
       "      <td>0.0</td>\n",
       "      <td>0.0</td>\n",
       "      <td>0.0</td>\n",
       "      <td>2.0</td>\n",
       "      <td>287.0</td>\n",
       "      <td>54.0</td>\n",
       "      <td>1</td>\n",
       "    </tr>\n",
       "  </tbody>\n",
       "</table>\n",
       "<p>5 rows × 28 columns</p>\n",
       "</div>"
      ],
      "text/plain": [
       "   assistances  receivedBalls  recoveredBalls  lostBalls  yellowCards  \\\n",
       "0          3.0          253.0             5.0       23.0          0.0   \n",
       "1          5.0          193.0             2.0       34.0          2.0   \n",
       "2          2.0          205.0             1.0       33.0          1.0   \n",
       "3          6.0          291.0             4.0       32.0          2.0   \n",
       "4          0.0          296.0             2.0       45.0          1.0   \n",
       "\n",
       "   redCards  receivedCrossBalls  missedCrossBalls  receivedCrossBallsPercent  \\\n",
       "0       0.0                 7.0              23.0                       23.3   \n",
       "1       0.0                 5.0               4.0                       55.6   \n",
       "2       0.0                 3.0              20.0                       13.0   \n",
       "3       0.0                 5.0              17.0                       22.7   \n",
       "4       0.0                 7.0              10.0                       41.2   \n",
       "\n",
       "   defenses  ...  badFinishes  finishes  goals  ownGoals  offsides  \\\n",
       "0       3.0  ...         10.0      18.0    4.0       0.0       1.0   \n",
       "1       4.0  ...         11.0      16.0    2.0       0.0       2.0   \n",
       "2       3.0  ...          9.0      13.0    2.0       0.0       1.0   \n",
       "3       2.0  ...         11.0      15.0    1.0       0.0       5.0   \n",
       "4       5.0  ...         10.0      22.0    1.0       0.0       0.0   \n",
       "\n",
       "   sucessfulLongPasses  unsucessfulLongPasses  sucessfulPasses  \\\n",
       "0                  0.0                    0.0            242.0   \n",
       "1                  0.0                    1.0            185.0   \n",
       "2                  1.0                    0.0            197.0   \n",
       "3                  0.0                    1.0            281.0   \n",
       "4                  0.0                    2.0            287.0   \n",
       "\n",
       "   unsucessfulPasses  FTR  \n",
       "0               47.0    2  \n",
       "1               49.0    0  \n",
       "2               43.0    2  \n",
       "3               65.0    0  \n",
       "4               54.0    1  \n",
       "\n",
       "[5 rows x 28 columns]"
      ]
     },
     "execution_count": 302,
     "metadata": {},
     "output_type": "execute_result"
    }
   ],
   "source": [
    "df.dropna(inplace=True)\n",
    "df.head()"
   ]
  },
  {
   "cell_type": "code",
   "execution_count": 303,
   "metadata": {},
   "outputs": [
    {
     "data": {
      "text/plain": [
       "<matplotlib.axes._subplots.AxesSubplot at 0x157c85e0630>"
      ]
     },
     "execution_count": 303,
     "metadata": {},
     "output_type": "execute_result"
    },
    {
     "data": {
      "image/png": "[encoded data removed]",
      "text/plain": [
       "<Figure size 432x288 with 1 Axes>"
      ]
     },
     "metadata": {
      "needs_background": "light"
     },
     "output_type": "display_data"
    }
   ],
   "source": [
    "sns.countplot(x='FTR', data=df)"
   ]
  },
  {
   "cell_type": "code",
   "execution_count": 304,
   "metadata": {},
   "outputs": [
    {
     "data": {
      "text/html": [
       "<div>\n",
       "<style scoped>\n",
       "    .dataframe tbody tr th:only-of-type {\n",
       "        vertical-align: middle;\n",
       "    }\n",
       "\n",
       "    .dataframe tbody tr th {\n",
       "        vertical-align: top;\n",
       "    }\n",
       "\n",
       "    .dataframe thead th {\n",
       "        text-align: right;\n",
       "    }\n",
       "</style>\n",
       "<table border=\"1\" class=\"dataframe\">\n",
       "  <thead>\n",
       "    <tr style=\"text-align: right;\">\n",
       "      <th></th>\n",
       "      <th>FTR</th>\n",
       "      <th>assistances</th>\n",
       "      <th>receivedBalls</th>\n",
       "      <th>recoveredBalls</th>\n",
       "      <th>lostBalls</th>\n",
       "      <th>yellowCards</th>\n",
       "      <th>redCards</th>\n",
       "      <th>receivedCrossBalls</th>\n",
       "      <th>missedCrossBalls</th>\n",
       "      <th>receivedCrossBallsPercent</th>\n",
       "      <th>...</th>\n",
       "      <th>goodFinishes</th>\n",
       "      <th>badFinishes</th>\n",
       "      <th>finishes</th>\n",
       "      <th>goals</th>\n",
       "      <th>ownGoals</th>\n",
       "      <th>offsides</th>\n",
       "      <th>sucessfulLongPasses</th>\n",
       "      <th>unsucessfulLongPasses</th>\n",
       "      <th>sucessfulPasses</th>\n",
       "      <th>unsucessfulPasses</th>\n",
       "    </tr>\n",
       "  </thead>\n",
       "  <tbody>\n",
       "    <tr>\n",
       "      <td>0</td>\n",
       "      <td>2.0</td>\n",
       "      <td>-0.168140</td>\n",
       "      <td>0.410117</td>\n",
       "      <td>1.022060</td>\n",
       "      <td>-1.159548</td>\n",
       "      <td>-1.681327</td>\n",
       "      <td>-0.396135</td>\n",
       "      <td>0.727197</td>\n",
       "      <td>1.028067</td>\n",
       "      <td>0.069262</td>\n",
       "      <td>...</td>\n",
       "      <td>1.460464</td>\n",
       "      <td>0.751466</td>\n",
       "      <td>1.233189</td>\n",
       "      <td>2.498598</td>\n",
       "      <td>0.0</td>\n",
       "      <td>-0.718523</td>\n",
       "      <td>-0.888714</td>\n",
       "      <td>-0.920240</td>\n",
       "      <td>0.380777</td>\n",
       "      <td>-0.387335</td>\n",
       "    </tr>\n",
       "    <tr>\n",
       "      <td>1</td>\n",
       "      <td>0.0</td>\n",
       "      <td>0.743071</td>\n",
       "      <td>-0.528759</td>\n",
       "      <td>-0.555906</td>\n",
       "      <td>0.131668</td>\n",
       "      <td>-0.242636</td>\n",
       "      <td>-0.396135</td>\n",
       "      <td>0.064435</td>\n",
       "      <td>-1.829355</td>\n",
       "      <td>3.043242</td>\n",
       "      <td>...</td>\n",
       "      <td>0.180088</td>\n",
       "      <td>1.042655</td>\n",
       "      <td>0.802171</td>\n",
       "      <td>0.690135</td>\n",
       "      <td>0.0</td>\n",
       "      <td>-0.177484</td>\n",
       "      <td>-0.888714</td>\n",
       "      <td>-0.304030</td>\n",
       "      <td>-0.541305</td>\n",
       "      <td>-0.194178</td>\n",
       "    </tr>\n",
       "    <tr>\n",
       "      <td>2</td>\n",
       "      <td>2.0</td>\n",
       "      <td>-0.623745</td>\n",
       "      <td>-0.340984</td>\n",
       "      <td>-1.081895</td>\n",
       "      <td>0.014285</td>\n",
       "      <td>-0.961982</td>\n",
       "      <td>-0.396135</td>\n",
       "      <td>-0.598326</td>\n",
       "      <td>0.576895</td>\n",
       "      <td>-0.879097</td>\n",
       "      <td>...</td>\n",
       "      <td>-0.246704</td>\n",
       "      <td>0.460278</td>\n",
       "      <td>0.155645</td>\n",
       "      <td>0.690135</td>\n",
       "      <td>0.0</td>\n",
       "      <td>-0.718523</td>\n",
       "      <td>-0.132957</td>\n",
       "      <td>-0.920240</td>\n",
       "      <td>-0.347182</td>\n",
       "      <td>-0.773648</td>\n",
       "    </tr>\n",
       "    <tr>\n",
       "      <td>3</td>\n",
       "      <td>0.0</td>\n",
       "      <td>1.198676</td>\n",
       "      <td>1.004738</td>\n",
       "      <td>0.496071</td>\n",
       "      <td>-0.103099</td>\n",
       "      <td>-0.242636</td>\n",
       "      <td>-0.396135</td>\n",
       "      <td>0.064435</td>\n",
       "      <td>0.125723</td>\n",
       "      <td>0.014018</td>\n",
       "      <td>...</td>\n",
       "      <td>-0.246704</td>\n",
       "      <td>1.042655</td>\n",
       "      <td>0.586663</td>\n",
       "      <td>-0.214097</td>\n",
       "      <td>0.0</td>\n",
       "      <td>1.445633</td>\n",
       "      <td>-0.888714</td>\n",
       "      <td>-0.304030</td>\n",
       "      <td>1.011675</td>\n",
       "      <td>1.351073</td>\n",
       "    </tr>\n",
       "    <tr>\n",
       "      <td>4</td>\n",
       "      <td>1.0</td>\n",
       "      <td>-1.534956</td>\n",
       "      <td>1.082978</td>\n",
       "      <td>-0.555906</td>\n",
       "      <td>1.422884</td>\n",
       "      <td>-0.961982</td>\n",
       "      <td>-0.396135</td>\n",
       "      <td>0.727197</td>\n",
       "      <td>-0.927011</td>\n",
       "      <td>1.717381</td>\n",
       "      <td>...</td>\n",
       "      <td>2.740839</td>\n",
       "      <td>0.751466</td>\n",
       "      <td>2.095224</td>\n",
       "      <td>-0.214097</td>\n",
       "      <td>0.0</td>\n",
       "      <td>-1.259561</td>\n",
       "      <td>-0.888714</td>\n",
       "      <td>0.312181</td>\n",
       "      <td>1.108736</td>\n",
       "      <td>0.288713</td>\n",
       "    </tr>\n",
       "  </tbody>\n",
       "</table>\n",
       "<p>5 rows × 28 columns</p>\n",
       "</div>"
      ],
      "text/plain": [
       "   FTR  assistances  receivedBalls  recoveredBalls  lostBalls  yellowCards  \\\n",
       "0  2.0    -0.168140       0.410117        1.022060  -1.159548    -1.681327   \n",
       "1  0.0     0.743071      -0.528759       -0.555906   0.131668    -0.242636   \n",
       "2  2.0    -0.623745      -0.340984       -1.081895   0.014285    -0.961982   \n",
       "3  0.0     1.198676       1.004738        0.496071  -0.103099    -0.242636   \n",
       "4  1.0    -1.534956       1.082978       -0.555906   1.422884    -0.961982   \n",
       "\n",
       "   redCards  receivedCrossBalls  missedCrossBalls  receivedCrossBallsPercent  \\\n",
       "0 -0.396135            0.727197          1.028067                   0.069262   \n",
       "1 -0.396135            0.064435         -1.829355                   3.043242   \n",
       "2 -0.396135           -0.598326          0.576895                  -0.879097   \n",
       "3 -0.396135            0.064435          0.125723                   0.014018   \n",
       "4 -0.396135            0.727197         -0.927011                   1.717381   \n",
       "\n",
       "   ...  goodFinishes  badFinishes  finishes     goals  ownGoals  offsides  \\\n",
       "0  ...      1.460464     0.751466  1.233189  2.498598       0.0 -0.718523   \n",
       "1  ...      0.180088     1.042655  0.802171  0.690135       0.0 -0.177484   \n",
       "2  ...     -0.246704     0.460278  0.155645  0.690135       0.0 -0.718523   \n",
       "3  ...     -0.246704     1.042655  0.586663 -0.214097       0.0  1.445633   \n",
       "4  ...      2.740839     0.751466  2.095224 -0.214097       0.0 -1.259561   \n",
       "\n",
       "   sucessfulLongPasses  unsucessfulLongPasses  sucessfulPasses  \\\n",
       "0            -0.888714              -0.920240         0.380777   \n",
       "1            -0.888714              -0.304030        -0.541305   \n",
       "2            -0.132957              -0.920240        -0.347182   \n",
       "3            -0.888714              -0.304030         1.011675   \n",
       "4            -0.888714               0.312181         1.108736   \n",
       "\n",
       "   unsucessfulPasses  \n",
       "0          -0.387335  \n",
       "1          -0.194178  \n",
       "2          -0.773648  \n",
       "3           1.351073  \n",
       "4           0.288713  \n",
       "\n",
       "[5 rows x 28 columns]"
      ]
     },
     "execution_count": 304,
     "metadata": {},
     "output_type": "execute_result"
    }
   ],
   "source": [
    "# Normalizando os dados com o StandardScaler\n",
    "# A distribuição dos dados será transformada tal que sua média = 0 e o desvio padrão = 1\n",
    "# z = (x-u)/σ\n",
    "# x = dados, u = média, σ = desvio padrão\n",
    "scaler = StandardScaler()\n",
    "scaler.fit(df.drop(['FTR'],axis=1))\n",
    "dados_normalizados = scaler.transform(df.drop(['FTR'],axis=1))\n",
    "df_normalizado = pd.DataFrame(dados_normalizados, columns=df.columns[:-1])\n",
    "df = df[['FTR']]\n",
    "df = pd.concat([df, df_normalizado], axis=1, sort=False)\n",
    "df.head()"
   ]
  },
  {
   "cell_type": "code",
   "execution_count": 305,
   "metadata": {},
   "outputs": [
    {
     "data": {
      "text/plain": [
       "<matplotlib.axes._subplots.AxesSubplot at 0x157c8648e80>"
      ]
     },
     "execution_count": 305,
     "metadata": {},
     "output_type": "execute_result"
    },
    {
     "data": {
      "image/png": "[encoded data removed]",
      "text/plain": [
       "<Figure size 432x288 with 2 Axes>"
      ]
     },
     "metadata": {
      "needs_background": "light"
     },
     "output_type": "display_data"
    }
   ],
   "source": [
    "#Mapa de calor de correlações\n",
    "sns.heatmap(df.corr(),linewidths=0.1,linecolor=\"black\")"
   ]
  },
  {
   "cell_type": "code",
   "execution_count": 306,
   "metadata": {},
   "outputs": [
    {
     "data": {
      "text/plain": [
       "FTR                          4\n",
       "assistances                  4\n",
       "receivedBalls                4\n",
       "recoveredBalls               4\n",
       "lostBalls                    4\n",
       "yellowCards                  4\n",
       "redCards                     4\n",
       "receivedCrossBalls           4\n",
       "missedCrossBalls             4\n",
       "receivedCrossBallsPercent    4\n",
       "defenses                     4\n",
       "sucessfulTackles             4\n",
       "sucessfulDribles             4\n",
       "unsucessfulDribles           4\n",
       "givenCorners                 4\n",
       "receivedCorners              4\n",
       "receivedFouls                4\n",
       "committedFouls               4\n",
       "goodFinishes                 4\n",
       "badFinishes                  4\n",
       "finishes                     4\n",
       "goals                        4\n",
       "ownGoals                     4\n",
       "offsides                     4\n",
       "sucessfulLongPasses          4\n",
       "unsucessfulLongPasses        4\n",
       "sucessfulPasses              4\n",
       "unsucessfulPasses            4\n",
       "dtype: int64"
      ]
     },
     "execution_count": 306,
     "metadata": {},
     "output_type": "execute_result"
    }
   ],
   "source": [
    "df.isnull().sum()"
   ]
  },
  {
   "cell_type": "code",
   "execution_count": 307,
   "metadata": {},
   "outputs": [],
   "source": [
    "df.dropna(inplace=True)"
   ]
  },
  {
   "cell_type": "markdown",
   "metadata": {},
   "source": [
    "## Aplicando os algoritmos de IA"
   ]
  },
  {
   "cell_type": "code",
   "execution_count": 308,
   "metadata": {},
   "outputs": [],
   "source": [
    "# Características\n",
    "X = df.drop('FTR',axis=1)\n",
    "# Alvo da previsão\n",
    "y = df['FTR']"
   ]
  },
  {
   "cell_type": "code",
   "execution_count": 309,
   "metadata": {},
   "outputs": [],
   "source": [
    "# Divisão treino/teste\n",
    "X_train, X_test, y_train, y_test = train_test_split(X,y,test_size=0.3, random_state=101)"
   ]
  },
  {
   "cell_type": "code",
   "execution_count": 310,
   "metadata": {},
   "outputs": [],
   "source": [
    "df_y_test = y_test.reset_index()\n",
    "df_y_test.drop('index',axis=1, inplace=True)"
   ]
  },
  {
   "cell_type": "markdown",
   "metadata": {},
   "source": [
    "### Regressão Linear"
   ]
  },
  {
   "cell_type": "code",
   "execution_count": 311,
   "metadata": {},
   "outputs": [],
   "source": [
    "from sklearn.linear_model import LinearRegression"
   ]
  },
  {
   "cell_type": "code",
   "execution_count": 312,
   "metadata": {},
   "outputs": [],
   "source": [
    "linear_regression = LinearRegression()\n",
    "linear_regression.fit(X_train, y_train)\n",
    "predict_linear_regression = linear_regression.predict(X_test)"
   ]
  },
  {
   "cell_type": "code",
   "execution_count": 313,
   "metadata": {},
   "outputs": [
    {
     "data": {
      "image/png": "[encoded data removed]",
      "text/plain": [
       "<Figure size 1800x360 with 1 Axes>"
      ]
     },
     "metadata": {
      "needs_background": "light"
     },
     "output_type": "display_data"
    }
   ],
   "source": [
    "plt.figure(figsize=(25, 5))\n",
    "plt.plot(df_y_test, 'go', ms=15, label='Real')\n",
    "plt.plot(predict_linear_regression, '+', color='black', ms=10, markeredgewidth=2, label='Predicted')\n",
    "plt.legend(loc='center left', bbox_to_anchor=(1, 0.5), fontsize = 'xx-large')\n",
    "plt.ylabel('FTR',fontsize=16)\n",
    "plt.xlabel('Número',fontsize=16)\n",
    "plt.title('Regressão Linear',fontsize=20)\n",
    "plt.show()"
   ]
  },
  {
   "cell_type": "code",
   "execution_count": 314,
   "metadata": {},
   "outputs": [
    {
     "name": "stdout",
     "output_type": "stream",
     "text": [
      "Score Regressão Linear: 0.21\n"
     ]
    }
   ],
   "source": [
    "print('Score Regressão Linear: %.2f' %linear_regression.score(X_test, y_test))"
   ]
  },
  {
   "cell_type": "markdown",
   "metadata": {},
   "source": [
    "### Regressão Logística"
   ]
  },
  {
   "cell_type": "code",
   "execution_count": 315,
   "metadata": {},
   "outputs": [],
   "source": [
    "from sklearn.linear_model import LogisticRegression"
   ]
  },
  {
   "cell_type": "code",
   "execution_count": 316,
   "metadata": {},
   "outputs": [
    {
     "name": "stderr",
     "output_type": "stream",
     "text": [
      "C:\\Users\\User\\Anaconda3\\lib\\site-packages\\sklearn\\linear_model\\logistic.py:432: FutureWarning: Default solver will be changed to 'lbfgs' in 0.22. Specify a solver to silence this warning.\n",
      "  FutureWarning)\n",
      "C:\\Users\\User\\Anaconda3\\lib\\site-packages\\sklearn\\linear_model\\logistic.py:469: FutureWarning: Default multi_class will be changed to 'auto' in 0.22. Specify the multi_class option to silence this warning.\n",
      "  \"this warning.\", FutureWarning)\n"
     ]
    }
   ],
   "source": [
    "logistic_regression = LogisticRegression()\n",
    "logistic_regression.fit(X_train, y_train)\n",
    "predict_logistic_regression = logistic_regression.predict(X_test)"
   ]
  },
  {
   "cell_type": "code",
   "execution_count": 317,
   "metadata": {},
   "outputs": [
    {
     "name": "stdout",
     "output_type": "stream",
     "text": [
      "              precision    recall  f1-score   support\n",
      "\n",
      "         0.0       0.50      0.76      0.60        82\n",
      "         1.0       0.44      0.11      0.18        62\n",
      "         2.0       0.67      0.70      0.68        82\n",
      "\n",
      "    accuracy                           0.56       226\n",
      "   macro avg       0.53      0.52      0.49       226\n",
      "weighted avg       0.54      0.56      0.51       226\n",
      "\n",
      "[[62  5 15]\n",
      " [42  7 13]\n",
      " [21  4 57]]\n",
      "\n",
      "Score Regressão Log: 0.56\n"
     ]
    }
   ],
   "source": [
    "print(classification_report(y_test,predict_logistic_regression))\n",
    "print(confusion_matrix(y_test,predict_logistic_regression))\n",
    "print('\\nScore Regressão Log: %.2f' %logistic_regression.score(X_test, y_test))"
   ]
  },
  {
   "cell_type": "code",
   "execution_count": 318,
   "metadata": {},
   "outputs": [
    {
     "data": {
      "image/png": "[encoded data removed]",
      "text/plain": [
       "<Figure size 1800x360 with 1 Axes>"
      ]
     },
     "metadata": {
      "needs_background": "light"
     },
     "output_type": "display_data"
    }
   ],
   "source": [
    "plt.figure(figsize=(25, 5))\n",
    "plt.plot(df_y_test, 'go', ms=15, label='Real')\n",
    "plt.plot(predict_logistic_regression, '+', color='black', ms=10, markeredgewidth=2, label='Predicted')\n",
    "plt.legend(loc='center left', bbox_to_anchor=(1, 0.5), fontsize = 'xx-large')\n",
    "plt.ylabel('FTR',fontsize=16)\n",
    "plt.xlabel('Número',fontsize=16)\n",
    "plt.title('Regressão Logística',fontsize=20)\n",
    "plt.show()"
   ]
  },
  {
   "cell_type": "markdown",
   "metadata": {},
   "source": [
    "### Árvore de Decisão"
   ]
  },
  {
   "cell_type": "code",
   "execution_count": 319,
   "metadata": {},
   "outputs": [],
   "source": [
    "from sklearn.tree import DecisionTreeClassifier"
   ]
  },
  {
   "cell_type": "code",
   "execution_count": 320,
   "metadata": {},
   "outputs": [],
   "source": [
    "decision_tree = DecisionTreeClassifier()\n",
    "decision_tree.fit(X_train, y_train)\n",
    "predict_decision_tree = decision_tree.predict(X_test)"
   ]
  },
  {
   "cell_type": "code",
   "execution_count": 321,
   "metadata": {},
   "outputs": [
    {
     "name": "stdout",
     "output_type": "stream",
     "text": [
      "              precision    recall  f1-score   support\n",
      "\n",
      "         0.0       0.54      0.46      0.50        82\n",
      "         1.0       0.35      0.42      0.38        62\n",
      "         2.0       0.58      0.57      0.58        82\n",
      "\n",
      "    accuracy                           0.49       226\n",
      "   macro avg       0.49      0.49      0.49       226\n",
      "weighted avg       0.50      0.49      0.49       226\n",
      "\n",
      "[[38 28 16]\n",
      " [18 26 18]\n",
      " [15 20 47]]\n",
      "\n",
      "Score Árvore de Decisão: 0.49\n"
     ]
    }
   ],
   "source": [
    "print(classification_report(y_test,predict_decision_tree))\n",
    "print(confusion_matrix(y_test,predict_decision_tree))\n",
    "print('\\nScore Árvore de Decisão: %.2f' %decision_tree.score(X_test, y_test))"
   ]
  },
  {
   "cell_type": "code",
   "execution_count": 322,
   "metadata": {},
   "outputs": [
    {
     "data": {
      "image/png": "[encoded data removed]",
      "text/plain": [
       "<Figure size 1800x360 with 1 Axes>"
      ]
     },
     "metadata": {
      "needs_background": "light"
     },
     "output_type": "display_data"
    }
   ],
   "source": [
    "plt.figure(figsize=(25, 5))\n",
    "plt.plot(df_y_test, 'go', ms=15, label='Real')\n",
    "plt.plot(predict_decision_tree, '+', color='black', ms=10, markeredgewidth=2, label='Predicted')\n",
    "plt.legend(loc='center left', bbox_to_anchor=(1, 0.5), fontsize = 'xx-large')\n",
    "plt.ylabel('FTR',fontsize=16)\n",
    "plt.xlabel('Número',fontsize=16)\n",
    "plt.title('Árvore de Decisão',fontsize=20)\n",
    "plt.show()"
   ]
  },
  {
   "cell_type": "markdown",
   "metadata": {},
   "source": [
    "### Floresta Aleatória"
   ]
  },
  {
   "cell_type": "code",
   "execution_count": 323,
   "metadata": {},
   "outputs": [],
   "source": [
    "from sklearn.ensemble import RandomForestClassifier"
   ]
  },
  {
   "cell_type": "code",
   "execution_count": 324,
   "metadata": {},
   "outputs": [],
   "source": [
    "#Método do cotovelo\n",
    "error_rate = []\n",
    "\n",
    "for i in range(1,200):\n",
    "    random_forest = RandomForestClassifier(n_estimators=i)\n",
    "    random_forest.fit(X_train, y_train)\n",
    "    predict_random_forest = random_forest.predict(X_test)\n",
    "    error_rate.append(np.mean(predict_random_forest!=y_test))"
   ]
  },
  {
   "cell_type": "code",
   "execution_count": 325,
   "metadata": {},
   "outputs": [
    {
     "data": {
      "text/plain": [
       "Text(0.5, 1.0, 'Taxa de erro vs. Number estimativas')"
      ]
     },
     "execution_count": 325,
     "metadata": {},
     "output_type": "execute_result"
    },
    {
     "data": {
      "image/png": "[encoded data removed]",
      "text/plain": [
       "<Figure size 1008x576 with 1 Axes>"
      ]
     },
     "metadata": {
      "needs_background": "light"
     },
     "output_type": "display_data"
    }
   ],
   "source": [
    "plt.figure(figsize=(14,8))\n",
    "plt.plot(range(1,200),error_rate,color=\"blue\",linestyle='dashed',marker='o',markerfacecolor='red')\n",
    "plt.xlabel('N')\n",
    "plt.ylabel(\"Taxa de erro\")\n",
    "plt.title(\"Taxa de erro vs. Number estimativas\")"
   ]
  },
  {
   "cell_type": "code",
   "execution_count": 326,
   "metadata": {},
   "outputs": [],
   "source": [
    "random_forest = RandomForestClassifier(n_estimators=error_rate.index(min(error_rate)))\n",
    "random_forest.fit(X_train, y_train)\n",
    "predict_random_forest = random_forest.predict(X_test)"
   ]
  },
  {
   "cell_type": "code",
   "execution_count": 327,
   "metadata": {},
   "outputs": [
    {
     "name": "stdout",
     "output_type": "stream",
     "text": [
      "              precision    recall  f1-score   support\n",
      "\n",
      "         0.0       0.52      0.72      0.61        82\n",
      "         1.0       0.40      0.16      0.23        62\n",
      "         2.0       0.62      0.67      0.65        82\n",
      "\n",
      "    accuracy                           0.55       226\n",
      "   macro avg       0.52      0.52      0.49       226\n",
      "weighted avg       0.53      0.55      0.52       226\n",
      "\n",
      "[[59  9 14]\n",
      " [33 10 19]\n",
      " [21  6 55]]\n",
      "\n",
      "Score Floresta Aleatória: 0.55\n"
     ]
    }
   ],
   "source": [
    "print(classification_report(y_test,predict_random_forest))\n",
    "print(confusion_matrix(y_test,predict_random_forest))\n",
    "print('\\nScore Floresta Aleatória: %.2f' %random_forest.score(X_test, y_test))"
   ]
  },
  {
   "cell_type": "code",
   "execution_count": 328,
   "metadata": {},
   "outputs": [
    {
     "data": {
      "image/png": "[encoded data removed]",
      "text/plain": [
       "<Figure size 1800x360 with 1 Axes>"
      ]
     },
     "metadata": {
      "needs_background": "light"
     },
     "output_type": "display_data"
    }
   ],
   "source": [
    "plt.figure(figsize=(25, 5))\n",
    "plt.plot(df_y_test, 'go', ms=15, label='Real')\n",
    "plt.plot(predict_random_forest, '+', color='black', ms=10, markeredgewidth=2, label='Predicted')\n",
    "plt.legend(loc='center left', bbox_to_anchor=(1, 0.5), fontsize = 'xx-large')\n",
    "plt.ylabel('FTR',fontsize=16)\n",
    "plt.xlabel('Número',fontsize=16)\n",
    "plt.title('Floresta Aleatória',fontsize=20)\n",
    "plt.show()"
   ]
  },
  {
   "cell_type": "markdown",
   "metadata": {},
   "source": [
    "### K Nearest Neighbours (KNN)"
   ]
  },
  {
   "cell_type": "code",
   "execution_count": 329,
   "metadata": {},
   "outputs": [],
   "source": [
    "from sklearn.neighbors import KNeighborsClassifier"
   ]
  },
  {
   "cell_type": "code",
   "execution_count": 330,
   "metadata": {},
   "outputs": [],
   "source": [
    "error_rate = []\n",
    "\n",
    "for i in range(1,40):\n",
    "    knn = KNeighborsClassifier(n_neighbors=i)\n",
    "    knn.fit(X_train, y_train)\n",
    "    predict_knn = knn.predict(X_test)\n",
    "    error_rate.append(np.mean(predict_knn!=y_test))"
   ]
  },
  {
   "cell_type": "code",
   "execution_count": 331,
   "metadata": {},
   "outputs": [
    {
     "data": {
      "text/plain": [
       "Text(0.5, 1.0, 'Taxa de erro vs. Number estimativas')"
      ]
     },
     "execution_count": 331,
     "metadata": {},
     "output_type": "execute_result"
    },
    {
     "data": {
      "image/png": "[encoded data removed]",
      "text/plain": [
       "<Figure size 1008x576 with 1 Axes>"
      ]
     },
     "metadata": {
      "needs_background": "light"
     },
     "output_type": "display_data"
    }
   ],
   "source": [
    "plt.figure(figsize=(14,8))\n",
    "plt.plot(range(1,40),error_rate,color=\"blue\",linestyle='dashed',marker='o',markerfacecolor='red')\n",
    "plt.xlabel('N')\n",
    "plt.ylabel(\"Taxa de erro\")\n",
    "plt.title(\"Taxa de erro vs. Number estimativas\")"
   ]
  },
  {
   "cell_type": "code",
   "execution_count": 332,
   "metadata": {},
   "outputs": [],
   "source": [
    "knn = KNeighborsClassifier(n_neighbors=error_rate.index(min(error_rate)))\n",
    "knn.fit(X_train, y_train)\n",
    "predict_knn = knn.predict(X_test)"
   ]
  },
  {
   "cell_type": "code",
   "execution_count": 333,
   "metadata": {},
   "outputs": [
    {
     "name": "stdout",
     "output_type": "stream",
     "text": [
      "              precision    recall  f1-score   support\n",
      "\n",
      "         0.0       0.48      0.51      0.50        82\n",
      "         1.0       0.32      0.32      0.32        62\n",
      "         2.0       0.58      0.55      0.57        82\n",
      "\n",
      "    accuracy                           0.47       226\n",
      "   macro avg       0.46      0.46      0.46       226\n",
      "weighted avg       0.48      0.47      0.47       226\n",
      "\n",
      "[[42 24 16]\n",
      " [26 20 16]\n",
      " [19 18 45]]\n",
      "\n",
      "Score KNN: 0.47\n"
     ]
    }
   ],
   "source": [
    "print(classification_report(y_test,predict_knn))\n",
    "print(confusion_matrix(y_test,predict_knn))\n",
    "print('\\nScore KNN: %.2f' %knn.score(X_test, y_test))"
   ]
  },
  {
   "cell_type": "code",
   "execution_count": 334,
   "metadata": {},
   "outputs": [
    {
     "data": {
      "image/png": "[encoded data removed]",
      "text/plain": [
       "<Figure size 1800x360 with 1 Axes>"
      ]
     },
     "metadata": {
      "needs_background": "light"
     },
     "output_type": "display_data"
    }
   ],
   "source": [
    "plt.figure(figsize=(25, 5))\n",
    "plt.plot(df_y_test, 'go', ms=15, label='Real')\n",
    "plt.plot(predict_knn, '+', color='black', ms=10, markeredgewidth=2, label='Predicted')\n",
    "plt.legend(loc='center left', bbox_to_anchor=(1, 0.5), fontsize = 'xx-large')\n",
    "plt.ylabel('FTR',fontsize=16)\n",
    "plt.xlabel('Número',fontsize=16)\n",
    "plt.title('KNN',fontsize=20)\n",
    "plt.show()"
   ]
  },
  {
   "cell_type": "markdown",
   "metadata": {},
   "source": [
    "### Support-vector Machine (SVM)"
   ]
  },
  {
   "cell_type": "code",
   "execution_count": 335,
   "metadata": {},
   "outputs": [],
   "source": [
    "from sklearn.svm import SVC"
   ]
  },
  {
   "cell_type": "code",
   "execution_count": 336,
   "metadata": {},
   "outputs": [
    {
     "name": "stderr",
     "output_type": "stream",
     "text": [
      "C:\\Users\\User\\Anaconda3\\lib\\site-packages\\sklearn\\model_selection\\_split.py:1978: FutureWarning: The default value of cv will change from 3 to 5 in version 0.22. Specify it explicitly to silence this warning.\n",
      "  warnings.warn(CV_WARNING, FutureWarning)\n",
      "[Parallel(n_jobs=1)]: Using backend SequentialBackend with 1 concurrent workers.\n",
      "[Parallel(n_jobs=1)]: Done   1 out of   1 | elapsed:    0.0s remaining:    0.0s\n",
      "[Parallel(n_jobs=1)]: Done   2 out of   2 | elapsed:    0.0s remaining:    0.0s\n"
     ]
    },
    {
     "name": "stdout",
     "output_type": "stream",
     "text": [
      "Fitting 3 folds for each of 25 candidates, totalling 75 fits\n",
      "[CV] C=0.1, gamma=1, kernel=rbf ......................................\n",
      "[CV] .......... C=0.1, gamma=1, kernel=rbf, score=0.375, total=   0.0s\n",
      "[CV] C=0.1, gamma=1, kernel=rbf ......................................\n",
      "[CV] .......... C=0.1, gamma=1, kernel=rbf, score=0.371, total=   0.0s\n",
      "[CV] C=0.1, gamma=1, kernel=rbf ......................................\n",
      "[CV] .......... C=0.1, gamma=1, kernel=rbf, score=0.343, total=   0.0s\n",
      "[CV] C=0.1, gamma=0.1, kernel=rbf ....................................\n",
      "[CV] ........ C=0.1, gamma=0.1, kernel=rbf, score=0.506, total=   0.0s\n",
      "[CV] C=0.1, gamma=0.1, kernel=rbf ....................................\n",
      "[CV] ........ C=0.1, gamma=0.1, kernel=rbf, score=0.554, total=   0.0s\n",
      "[CV] C=0.1, gamma=0.1, kernel=rbf ....................................\n",
      "[CV] ........ C=0.1, gamma=0.1, kernel=rbf, score=0.514, total=   0.0s\n",
      "[CV] C=0.1, gamma=0.01, kernel=rbf ...................................\n",
      "[CV] ....... C=0.1, gamma=0.01, kernel=rbf, score=0.455, total=   0.0s\n",
      "[CV] C=0.1, gamma=0.01, kernel=rbf ...................................\n",
      "[CV] ....... C=0.1, gamma=0.01, kernel=rbf, score=0.526, total=   0.0s\n",
      "[CV] C=0.1, gamma=0.01, kernel=rbf ...................................\n",
      "[CV] ....... C=0.1, gamma=0.01, kernel=rbf, score=0.549, total=   0.0s\n",
      "[CV] C=0.1, gamma=0.001, kernel=rbf ..................................\n",
      "[CV] ...... C=0.1, gamma=0.001, kernel=rbf, score=0.466, total=   0.0s\n",
      "[CV] C=0.1, gamma=0.001, kernel=rbf ..................................\n",
      "[CV] ...... C=0.1, gamma=0.001, kernel=rbf, score=0.463, total=   0.0s\n",
      "[CV] C=0.1, gamma=0.001, kernel=rbf ..................................\n",
      "[CV] ...... C=0.1, gamma=0.001, kernel=rbf, score=0.474, total=   0.0s\n",
      "[CV] C=0.1, gamma=0.001, kernel=rbf ..................................\n",
      "[CV] ...... C=0.1, gamma=0.001, kernel=rbf, score=0.466, total=   0.0s\n",
      "[CV] C=0.1, gamma=0.001, kernel=rbf ..................................\n",
      "[CV] ...... C=0.1, gamma=0.001, kernel=rbf, score=0.463, total=   0.0s\n",
      "[CV] C=0.1, gamma=0.001, kernel=rbf ..................................\n",
      "[CV] ...... C=0.1, gamma=0.001, kernel=rbf, score=0.474, total=   0.0s\n",
      "[CV] C=1, gamma=1, kernel=rbf ........................................\n",
      "[CV] ............ C=1, gamma=1, kernel=rbf, score=0.369, total=   0.0s\n",
      "[CV] C=1, gamma=1, kernel=rbf ........................................\n",
      "[CV] ............ C=1, gamma=1, kernel=rbf, score=0.429, total=   0.0s\n",
      "[CV] C=1, gamma=1, kernel=rbf ........................................\n",
      "[CV] ............ C=1, gamma=1, kernel=rbf, score=0.349, total=   0.0s\n",
      "[CV] C=1, gamma=0.1, kernel=rbf ......................................\n",
      "[CV] .......... C=1, gamma=0.1, kernel=rbf, score=0.506, total=   0.0s\n",
      "[CV] C=1, gamma=0.1, kernel=rbf ......................................\n",
      "[CV] .......... C=1, gamma=0.1, kernel=rbf, score=0.537, total=   0.0s\n",
      "[CV] C=1, gamma=0.1, kernel=rbf ......................................\n",
      "[CV] .......... C=1, gamma=0.1, kernel=rbf, score=0.571, total=   0.0s\n",
      "[CV] C=1, gamma=0.01, kernel=rbf .....................................\n",
      "[CV] ......... C=1, gamma=0.01, kernel=rbf, score=0.523, total=   0.0s\n",
      "[CV] C=1, gamma=0.01, kernel=rbf .....................................\n",
      "[CV] ......... C=1, gamma=0.01, kernel=rbf, score=0.537, total=   0.0s\n",
      "[CV] C=1, gamma=0.01, kernel=rbf .....................................\n",
      "[CV] ......... C=1, gamma=0.01, kernel=rbf, score=0.531, total=   0.0s\n",
      "[CV] C=1, gamma=0.001, kernel=rbf ....................................\n",
      "[CV] ........ C=1, gamma=0.001, kernel=rbf, score=0.483, total=   0.0s\n",
      "[CV] C=1, gamma=0.001, kernel=rbf ....................................\n",
      "[CV] ........ C=1, gamma=0.001, kernel=rbf, score=0.520, total=   0.0s\n",
      "[CV] C=1, gamma=0.001, kernel=rbf ....................................\n",
      "[CV] ........ C=1, gamma=0.001, kernel=rbf, score=0.560, total=   0.0s\n",
      "[CV] C=1, gamma=0.001, kernel=rbf ....................................\n",
      "[CV] ........ C=1, gamma=0.001, kernel=rbf, score=0.483, total=   0.0s\n",
      "[CV] C=1, gamma=0.001, kernel=rbf ....................................\n",
      "[CV] ........ C=1, gamma=0.001, kernel=rbf, score=0.520, total=   0.0s\n",
      "[CV] C=1, gamma=0.001, kernel=rbf ....................................\n",
      "[CV] ........ C=1, gamma=0.001, kernel=rbf, score=0.560, total=   0.0s\n",
      "[CV] C=10, gamma=1, kernel=rbf .......................................\n",
      "[CV] ........... C=10, gamma=1, kernel=rbf, score=0.375, total=   0.0s\n",
      "[CV] C=10, gamma=1, kernel=rbf .......................................\n",
      "[CV] ........... C=10, gamma=1, kernel=rbf, score=0.429, total=   0.0s\n",
      "[CV] C=10, gamma=1, kernel=rbf .......................................\n",
      "[CV] ........... C=10, gamma=1, kernel=rbf, score=0.349, total=   0.0s\n",
      "[CV] C=10, gamma=0.1, kernel=rbf .....................................\n",
      "[CV] ......... C=10, gamma=0.1, kernel=rbf, score=0.489, total=   0.0s\n",
      "[CV] C=10, gamma=0.1, kernel=rbf .....................................\n",
      "[CV] ......... C=10, gamma=0.1, kernel=rbf, score=0.486, total=   0.0s\n",
      "[CV] C=10, gamma=0.1, kernel=rbf .....................................\n",
      "[CV] ......... C=10, gamma=0.1, kernel=rbf, score=0.543, total=   0.0s\n",
      "[CV] C=10, gamma=0.01, kernel=rbf ....................................\n",
      "[CV] ........ C=10, gamma=0.01, kernel=rbf, score=0.494, total=   0.0s\n",
      "[CV] C=10, gamma=0.01, kernel=rbf ....................................\n",
      "[CV] ........ C=10, gamma=0.01, kernel=rbf, score=0.491, total=   0.0s\n",
      "[CV] C=10, gamma=0.01, kernel=rbf ....................................\n",
      "[CV] ........ C=10, gamma=0.01, kernel=rbf, score=0.503, total=   0.0s\n",
      "[CV] C=10, gamma=0.001, kernel=rbf ...................................\n",
      "[CV] ....... C=10, gamma=0.001, kernel=rbf, score=0.511, total=   0.0s\n",
      "[CV] C=10, gamma=0.001, kernel=rbf ...................................\n",
      "[CV] ....... C=10, gamma=0.001, kernel=rbf, score=0.537, total=   0.0s\n",
      "[CV] C=10, gamma=0.001, kernel=rbf ...................................\n",
      "[CV] ....... C=10, gamma=0.001, kernel=rbf, score=0.520, total=   0.0s\n",
      "[CV] C=10, gamma=0.001, kernel=rbf ...................................\n",
      "[CV] ....... C=10, gamma=0.001, kernel=rbf, score=0.511, total=   0.0s\n",
      "[CV] C=10, gamma=0.001, kernel=rbf ...................................\n",
      "[CV] ....... C=10, gamma=0.001, kernel=rbf, score=0.537, total=   0.0s\n",
      "[CV] C=10, gamma=0.001, kernel=rbf ...................................\n",
      "[CV] ....... C=10, gamma=0.001, kernel=rbf, score=0.520, total=   0.0s\n",
      "[CV] C=100, gamma=1, kernel=rbf ......................................\n",
      "[CV] .......... C=100, gamma=1, kernel=rbf, score=0.375, total=   0.0s\n",
      "[CV] C=100, gamma=1, kernel=rbf ......................................\n",
      "[CV] .......... C=100, gamma=1, kernel=rbf, score=0.429, total=   0.0s\n",
      "[CV] C=100, gamma=1, kernel=rbf ......................................\n",
      "[CV] .......... C=100, gamma=1, kernel=rbf, score=0.349, total=   0.0s\n",
      "[CV] C=100, gamma=0.1, kernel=rbf ....................................\n",
      "[CV] ........ C=100, gamma=0.1, kernel=rbf, score=0.489, total=   0.0s\n",
      "[CV] C=100, gamma=0.1, kernel=rbf ....................................\n",
      "[CV] ........ C=100, gamma=0.1, kernel=rbf, score=0.486, total=   0.0s\n",
      "[CV] C=100, gamma=0.1, kernel=rbf ....................................\n",
      "[CV] ........ C=100, gamma=0.1, kernel=rbf, score=0.543, total=   0.0s\n",
      "[CV] C=100, gamma=0.01, kernel=rbf ...................................\n",
      "[CV] ....... C=100, gamma=0.01, kernel=rbf, score=0.494, total=   0.1s\n",
      "[CV] C=100, gamma=0.01, kernel=rbf ...................................\n",
      "[CV] ....... C=100, gamma=0.01, kernel=rbf, score=0.440, total=   0.0s\n",
      "[CV] C=100, gamma=0.01, kernel=rbf ...................................\n",
      "[CV] ....... C=100, gamma=0.01, kernel=rbf, score=0.491, total=   0.1s\n",
      "[CV] C=100, gamma=0.001, kernel=rbf ..................................\n",
      "[CV] ...... C=100, gamma=0.001, kernel=rbf, score=0.494, total=   0.0s\n",
      "[CV] C=100, gamma=0.001, kernel=rbf ..................................\n",
      "[CV] ...... C=100, gamma=0.001, kernel=rbf, score=0.480, total=   0.0s\n",
      "[CV] C=100, gamma=0.001, kernel=rbf ..................................\n",
      "[CV] ...... C=100, gamma=0.001, kernel=rbf, score=0.497, total=   0.0s\n",
      "[CV] C=100, gamma=0.001, kernel=rbf ..................................\n",
      "[CV] ...... C=100, gamma=0.001, kernel=rbf, score=0.494, total=   0.0s\n",
      "[CV] C=100, gamma=0.001, kernel=rbf ..................................\n",
      "[CV] ...... C=100, gamma=0.001, kernel=rbf, score=0.480, total=   0.0s\n",
      "[CV] C=100, gamma=0.001, kernel=rbf ..................................\n",
      "[CV] ...... C=100, gamma=0.001, kernel=rbf, score=0.497, total=   0.0s\n",
      "[CV] C=1000, gamma=1, kernel=rbf .....................................\n",
      "[CV] ......... C=1000, gamma=1, kernel=rbf, score=0.375, total=   0.0s\n",
      "[CV] C=1000, gamma=1, kernel=rbf .....................................\n",
      "[CV] ......... C=1000, gamma=1, kernel=rbf, score=0.429, total=   0.0s\n",
      "[CV] C=1000, gamma=1, kernel=rbf .....................................\n",
      "[CV] ......... C=1000, gamma=1, kernel=rbf, score=0.349, total=   0.0s\n",
      "[CV] C=1000, gamma=0.1, kernel=rbf ...................................\n",
      "[CV] ....... C=1000, gamma=0.1, kernel=rbf, score=0.489, total=   0.0s\n",
      "[CV] C=1000, gamma=0.1, kernel=rbf ...................................\n",
      "[CV] ....... C=1000, gamma=0.1, kernel=rbf, score=0.486, total=   0.0s\n",
      "[CV] C=1000, gamma=0.1, kernel=rbf ...................................\n",
      "[CV] ....... C=1000, gamma=0.1, kernel=rbf, score=0.543, total=   0.0s\n",
      "[CV] C=1000, gamma=0.01, kernel=rbf ..................................\n",
      "[CV] ...... C=1000, gamma=0.01, kernel=rbf, score=0.506, total=   0.1s\n",
      "[CV] C=1000, gamma=0.01, kernel=rbf ..................................\n",
      "[CV] ...... C=1000, gamma=0.01, kernel=rbf, score=0.440, total=   0.1s\n",
      "[CV] C=1000, gamma=0.01, kernel=rbf ..................................\n",
      "[CV] ...... C=1000, gamma=0.01, kernel=rbf, score=0.491, total=   0.0s\n",
      "[CV] C=1000, gamma=0.001, kernel=rbf .................................\n",
      "[CV] ..... C=1000, gamma=0.001, kernel=rbf, score=0.489, total=   0.1s\n",
      "[CV] C=1000, gamma=0.001, kernel=rbf .................................\n",
      "[CV] ..... C=1000, gamma=0.001, kernel=rbf, score=0.457, total=   0.2s\n",
      "[CV] C=1000, gamma=0.001, kernel=rbf .................................\n",
      "[CV] ..... C=1000, gamma=0.001, kernel=rbf, score=0.520, total=   0.1s\n",
      "[CV] C=1000, gamma=0.001, kernel=rbf .................................\n",
      "[CV] ..... C=1000, gamma=0.001, kernel=rbf, score=0.489, total=   0.1s\n",
      "[CV] C=1000, gamma=0.001, kernel=rbf .................................\n",
      "[CV] ..... C=1000, gamma=0.001, kernel=rbf, score=0.457, total=   0.1s\n",
      "[CV] C=1000, gamma=0.001, kernel=rbf .................................\n",
      "[CV] ..... C=1000, gamma=0.001, kernel=rbf, score=0.520, total=   0.1s\n",
      "{'C': 1, 'gamma': 0.1, 'kernel': 'rbf'}\n"
     ]
    },
    {
     "name": "stderr",
     "output_type": "stream",
     "text": [
      "[Parallel(n_jobs=1)]: Done  75 out of  75 | elapsed:    2.9s finished\n"
     ]
    }
   ],
   "source": [
    "param_grid = {'C':[0.1,1,10,100,1000],'gamma': [1,0.1,0.01,0.001,0.001], 'kernel':['rbf']}\n",
    "grid = GridSearchCV(SVC(),param_grid,refit=True, verbose=3)\n",
    "grid.fit(X_train, y_train)\n",
    "print(grid.best_params_)\n",
    "predict_svm = grid.predict(X_test)"
   ]
  },
  {
   "cell_type": "code",
   "execution_count": 337,
   "metadata": {},
   "outputs": [
    {
     "name": "stdout",
     "output_type": "stream",
     "text": [
      "              precision    recall  f1-score   support\n",
      "\n",
      "         0.0       0.52      0.77      0.62        82\n",
      "         1.0       0.32      0.11      0.17        62\n",
      "         2.0       0.59      0.59      0.59        82\n",
      "\n",
      "    accuracy                           0.52       226\n",
      "   macro avg       0.47      0.49      0.46       226\n",
      "weighted avg       0.49      0.52      0.48       226\n",
      "\n",
      "[[63  3 16]\n",
      " [37  7 18]\n",
      " [22 12 48]]\n",
      "\n",
      "Score SVM: 0.52\n"
     ]
    }
   ],
   "source": [
    "print(classification_report(y_test,predict_svm))\n",
    "print(confusion_matrix(y_test,predict_svm))\n",
    "print('\\nScore SVM: %.2f' %grid.score(X_test, y_test))"
   ]
  },
  {
   "cell_type": "code",
   "execution_count": 338,
   "metadata": {},
   "outputs": [
    {
     "data": {
      "image/png": "[encoded data removed]",
      "text/plain": [
       "<Figure size 1800x360 with 1 Axes>"
      ]
     },
     "metadata": {
      "needs_background": "light"
     },
     "output_type": "display_data"
    }
   ],
   "source": [
    "plt.figure(figsize=(25, 5))\n",
    "plt.plot(df_y_test, 'go', ms=15, label='Real')\n",
    "plt.plot(predict_svm, '+', color='black', ms=10, markeredgewidth=2, label='Predicted')\n",
    "plt.legend(loc='center left', bbox_to_anchor=(1, 0.5), fontsize = 'xx-large')\n",
    "plt.ylabel('FTR',fontsize=16)\n",
    "plt.xlabel('Número',fontsize=16)\n",
    "plt.title('SVM',fontsize=20)\n",
    "plt.show()"
   ]
  },
  {
   "cell_type": "markdown",
   "metadata": {},
   "source": [
    "### Multi-layer Perceptron Classifier"
   ]
  },
  {
   "cell_type": "code",
   "execution_count": 339,
   "metadata": {},
   "outputs": [],
   "source": [
    "from sklearn.neural_network import MLPClassifier"
   ]
  },
  {
   "cell_type": "code",
   "execution_count": 340,
   "metadata": {},
   "outputs": [],
   "source": [
    "mlp_classifier = MLPClassifier(hidden_layer_sizes=(2,8), activation='logistic', solver='adam', max_iter=1000)\n",
    "mlp_classifier.fit(X_train,y_train)\n",
    "predict_mlp_classifier = mlp_classifier.predict(X_test)"
   ]
  },
  {
   "cell_type": "code",
   "execution_count": 341,
   "metadata": {},
   "outputs": [
    {
     "name": "stdout",
     "output_type": "stream",
     "text": [
      "[[66  2 14]\n",
      " [43  0 19]\n",
      " [24  2 56]]\n",
      "\n",
      "Score MLP: 0.54\n"
     ]
    }
   ],
   "source": [
    "#print(classification_report(y_test,predict_mlp))\n",
    "print(confusion_matrix(y_test,predict_mlp_classifier))\n",
    "print('\\nScore MLP: %.2f' %mlp_classifier.score(X_test, y_test))"
   ]
  },
  {
   "cell_type": "code",
   "execution_count": 342,
   "metadata": {},
   "outputs": [
    {
     "data": {
      "image/png": "[encoded data removed]",
      "text/plain": [
       "<Figure size 1800x360 with 1 Axes>"
      ]
     },
     "metadata": {
      "needs_background": "light"
     },
     "output_type": "display_data"
    }
   ],
   "source": [
    "plt.figure(figsize=(25, 5))\n",
    "plt.plot(df_y_test, 'go', ms=15, label='Real')\n",
    "plt.plot(predict_mlp_classifier, '+', color='black', ms=10, markeredgewidth=2, label='Predicted')\n",
    "plt.legend(loc='center left', bbox_to_anchor=(1, 0.5), fontsize = 'xx-large')\n",
    "plt.ylabel('FTR',fontsize=16)\n",
    "plt.xlabel('Número',fontsize=16)\n",
    "plt.title('KNN',fontsize=20)\n",
    "plt.show()"
   ]
  },
  {
   "cell_type": "markdown",
   "metadata": {},
   "source": [
    "## Resultados finais"
   ]
  },
  {
   "cell_type": "code",
   "execution_count": 343,
   "metadata": {},
   "outputs": [
    {
     "name": "stdout",
     "output_type": "stream",
     "text": [
      "Regressão linear: 21.05%\n",
      "\n",
      "Regressão logística: 55.75%\n",
      "\n",
      "Árvore de decisão: 49.12%\n",
      "\n",
      "Floresta aleatória: 54.87%\n",
      "\n",
      "KNN: 47.35%\n",
      "\n",
      "SVM: 52.21%\n"
     ]
    }
   ],
   "source": [
    "print('Regressão linear: %.2f' %(linear_regression.score(X_test, y_test)*100) + \"%\") \n",
    "print('\\nRegressão logística: %.2f' %(logistic_regression.score(X_test, y_test)*100) + \"%\")\n",
    "print('\\nÁrvore de decisão: %.2f' %(decision_tree.score(X_test, y_test)*100) + \"%\")\n",
    "print('\\nFloresta aleatória: %.2f' %(random_forest.score(X_test, y_test)*100) + \"%\")\n",
    "print('\\nKNN: %.2f' %(knn.score(X_test, y_test)*100) + \"%\")\n",
    "print('\\nSVM: %.2f' %(grid.score(X_test, y_test)*100) + \"%\")"
   ]
  },
  {
   "cell_type": "code",
   "execution_count": null,
   "metadata": {},
   "outputs": [],
   "source": []
  }
 ],
 "metadata": {
  "kernelspec": {
   "display_name": "Python 3",
   "language": "python",
   "name": "python3"
  },
  "language_info": {
   "codemirror_mode": {
    "name": "ipython",
    "version": 3
   },
   "file_extension": ".py",
   "mimetype": "text/x-python",
   "name": "python",
   "nbconvert_exporter": "python",
   "pygments_lexer": "ipython3",
   "version": "3.7.3"
  }
 },
 "nbformat": 4,
 "nbformat_minor": 4
}
